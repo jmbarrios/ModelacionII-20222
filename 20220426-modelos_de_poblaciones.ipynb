{
  "nbformat": 4,
  "nbformat_minor": 0,
  "metadata": {
    "colab": {
      "name": "modelos_de_poblaciones.ipynb",
      "provenance": [],
      "authorship_tag": "ABX9TyNc3yzTpCSG603LP3a7r5PB"
    },
    "kernelspec": {
      "name": "python3",
      "display_name": "Python 3"
    },
    "language_info": {
      "name": "python"
    },
    "widgets": {
      "application/vnd.jupyter.widget-state+json": {
        "4f9c0ec9d00543e9a857cd2729274230": {
          "model_module": "@jupyter-widgets/controls",
          "model_name": "VBoxModel",
          "model_module_version": "1.5.0",
          "state": {
            "_dom_classes": [
              "widget-interact"
            ],
            "_model_module": "@jupyter-widgets/controls",
            "_model_module_version": "1.5.0",
            "_model_name": "VBoxModel",
            "_view_count": null,
            "_view_module": "@jupyter-widgets/controls",
            "_view_module_version": "1.5.0",
            "_view_name": "VBoxView",
            "box_style": "",
            "children": [
              "IPY_MODEL_7cc0f323b59b4045a6819caf42a0b6a4",
              "IPY_MODEL_fac28664ef5a411aab1a1c7ade7aef4b",
              "IPY_MODEL_46ad37375aa64869b1e057611a89caae"
            ],
            "layout": "IPY_MODEL_b500634bc2f74120af34a1d180ed5381"
          }
        },
        "7cc0f323b59b4045a6819caf42a0b6a4": {
          "model_module": "@jupyter-widgets/controls",
          "model_name": "FloatSliderModel",
          "model_module_version": "1.5.0",
          "state": {
            "_dom_classes": [],
            "_model_module": "@jupyter-widgets/controls",
            "_model_module_version": "1.5.0",
            "_model_name": "FloatSliderModel",
            "_view_count": null,
            "_view_module": "@jupyter-widgets/controls",
            "_view_module_version": "1.5.0",
            "_view_name": "FloatSliderView",
            "continuous_update": true,
            "description": "q",
            "description_tooltip": null,
            "disabled": false,
            "layout": "IPY_MODEL_73b9c7892907403398ab69b44cc71444",
            "max": 1,
            "min": 0,
            "orientation": "horizontal",
            "readout": true,
            "readout_format": ".2f",
            "step": 0.1,
            "style": "IPY_MODEL_1848c4ef8e194c0e97b257b14442aacc",
            "value": 0.5
          }
        },
        "fac28664ef5a411aab1a1c7ade7aef4b": {
          "model_module": "@jupyter-widgets/controls",
          "model_name": "FloatSliderModel",
          "model_module_version": "1.5.0",
          "state": {
            "_dom_classes": [],
            "_model_module": "@jupyter-widgets/controls",
            "_model_module_version": "1.5.0",
            "_model_name": "FloatSliderModel",
            "_view_count": null,
            "_view_module": "@jupyter-widgets/controls",
            "_view_module_version": "1.5.0",
            "_view_name": "FloatSliderView",
            "continuous_update": true,
            "description": "E",
            "description_tooltip": null,
            "disabled": false,
            "layout": "IPY_MODEL_5b4de1d1b004410fa00a28069be5eaf2",
            "max": 11,
            "min": 0,
            "orientation": "horizontal",
            "readout": true,
            "readout_format": ".2f",
            "step": 0.1,
            "style": "IPY_MODEL_66071824ed7c4ba28851764a0ae6de0b",
            "value": 9
          }
        },
        "46ad37375aa64869b1e057611a89caae": {
          "model_module": "@jupyter-widgets/output",
          "model_name": "OutputModel",
          "model_module_version": "1.0.0",
          "state": {
            "_dom_classes": [],
            "_model_module": "@jupyter-widgets/output",
            "_model_module_version": "1.0.0",
            "_model_name": "OutputModel",
            "_view_count": null,
            "_view_module": "@jupyter-widgets/output",
            "_view_module_version": "1.0.0",
            "_view_name": "OutputView",
            "layout": "IPY_MODEL_0646e7edd1e84cb6ae8f00bda73f439c",
            "msg_id": "",
            "outputs": [
              {
                "output_type": "display_data",
                "data": {
                  "text/plain": "<Figure size 432x288 with 1 Axes>",
                  "image/png": "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\n"
                },
                "metadata": {
                  "needs_background": "light"
                }
              }
            ]
          }
        },
        "b500634bc2f74120af34a1d180ed5381": {
          "model_module": "@jupyter-widgets/base",
          "model_name": "LayoutModel",
          "model_module_version": "1.2.0",
          "state": {
            "_model_module": "@jupyter-widgets/base",
            "_model_module_version": "1.2.0",
            "_model_name": "LayoutModel",
            "_view_count": null,
            "_view_module": "@jupyter-widgets/base",
            "_view_module_version": "1.2.0",
            "_view_name": "LayoutView",
            "align_content": null,
            "align_items": null,
            "align_self": null,
            "border": null,
            "bottom": null,
            "display": null,
            "flex": null,
            "flex_flow": null,
            "grid_area": null,
            "grid_auto_columns": null,
            "grid_auto_flow": null,
            "grid_auto_rows": null,
            "grid_column": null,
            "grid_gap": null,
            "grid_row": null,
            "grid_template_areas": null,
            "grid_template_columns": null,
            "grid_template_rows": null,
            "height": null,
            "justify_content": null,
            "justify_items": null,
            "left": null,
            "margin": null,
            "max_height": null,
            "max_width": null,
            "min_height": null,
            "min_width": null,
            "object_fit": null,
            "object_position": null,
            "order": null,
            "overflow": null,
            "overflow_x": null,
            "overflow_y": null,
            "padding": null,
            "right": null,
            "top": null,
            "visibility": null,
            "width": null
          }
        },
        "73b9c7892907403398ab69b44cc71444": {
          "model_module": "@jupyter-widgets/base",
          "model_name": "LayoutModel",
          "model_module_version": "1.2.0",
          "state": {
            "_model_module": "@jupyter-widgets/base",
            "_model_module_version": "1.2.0",
            "_model_name": "LayoutModel",
            "_view_count": null,
            "_view_module": "@jupyter-widgets/base",
            "_view_module_version": "1.2.0",
            "_view_name": "LayoutView",
            "align_content": null,
            "align_items": null,
            "align_self": null,
            "border": null,
            "bottom": null,
            "display": null,
            "flex": null,
            "flex_flow": null,
            "grid_area": null,
            "grid_auto_columns": null,
            "grid_auto_flow": null,
            "grid_auto_rows": null,
            "grid_column": null,
            "grid_gap": null,
            "grid_row": null,
            "grid_template_areas": null,
            "grid_template_columns": null,
            "grid_template_rows": null,
            "height": null,
            "justify_content": null,
            "justify_items": null,
            "left": null,
            "margin": null,
            "max_height": null,
            "max_width": null,
            "min_height": null,
            "min_width": null,
            "object_fit": null,
            "object_position": null,
            "order": null,
            "overflow": null,
            "overflow_x": null,
            "overflow_y": null,
            "padding": null,
            "right": null,
            "top": null,
            "visibility": null,
            "width": null
          }
        },
        "1848c4ef8e194c0e97b257b14442aacc": {
          "model_module": "@jupyter-widgets/controls",
          "model_name": "SliderStyleModel",
          "model_module_version": "1.5.0",
          "state": {
            "_model_module": "@jupyter-widgets/controls",
            "_model_module_version": "1.5.0",
            "_model_name": "SliderStyleModel",
            "_view_count": null,
            "_view_module": "@jupyter-widgets/base",
            "_view_module_version": "1.2.0",
            "_view_name": "StyleView",
            "description_width": "",
            "handle_color": null
          }
        },
        "5b4de1d1b004410fa00a28069be5eaf2": {
          "model_module": "@jupyter-widgets/base",
          "model_name": "LayoutModel",
          "model_module_version": "1.2.0",
          "state": {
            "_model_module": "@jupyter-widgets/base",
            "_model_module_version": "1.2.0",
            "_model_name": "LayoutModel",
            "_view_count": null,
            "_view_module": "@jupyter-widgets/base",
            "_view_module_version": "1.2.0",
            "_view_name": "LayoutView",
            "align_content": null,
            "align_items": null,
            "align_self": null,
            "border": null,
            "bottom": null,
            "display": null,
            "flex": null,
            "flex_flow": null,
            "grid_area": null,
            "grid_auto_columns": null,
            "grid_auto_flow": null,
            "grid_auto_rows": null,
            "grid_column": null,
            "grid_gap": null,
            "grid_row": null,
            "grid_template_areas": null,
            "grid_template_columns": null,
            "grid_template_rows": null,
            "height": null,
            "justify_content": null,
            "justify_items": null,
            "left": null,
            "margin": null,
            "max_height": null,
            "max_width": null,
            "min_height": null,
            "min_width": null,
            "object_fit": null,
            "object_position": null,
            "order": null,
            "overflow": null,
            "overflow_x": null,
            "overflow_y": null,
            "padding": null,
            "right": null,
            "top": null,
            "visibility": null,
            "width": null
          }
        },
        "66071824ed7c4ba28851764a0ae6de0b": {
          "model_module": "@jupyter-widgets/controls",
          "model_name": "SliderStyleModel",
          "model_module_version": "1.5.0",
          "state": {
            "_model_module": "@jupyter-widgets/controls",
            "_model_module_version": "1.5.0",
            "_model_name": "SliderStyleModel",
            "_view_count": null,
            "_view_module": "@jupyter-widgets/base",
            "_view_module_version": "1.2.0",
            "_view_name": "StyleView",
            "description_width": "",
            "handle_color": null
          }
        },
        "0646e7edd1e84cb6ae8f00bda73f439c": {
          "model_module": "@jupyter-widgets/base",
          "model_name": "LayoutModel",
          "model_module_version": "1.2.0",
          "state": {
            "_model_module": "@jupyter-widgets/base",
            "_model_module_version": "1.2.0",
            "_model_name": "LayoutModel",
            "_view_count": null,
            "_view_module": "@jupyter-widgets/base",
            "_view_module_version": "1.2.0",
            "_view_name": "LayoutView",
            "align_content": null,
            "align_items": null,
            "align_self": null,
            "border": null,
            "bottom": null,
            "display": null,
            "flex": null,
            "flex_flow": null,
            "grid_area": null,
            "grid_auto_columns": null,
            "grid_auto_flow": null,
            "grid_auto_rows": null,
            "grid_column": null,
            "grid_gap": null,
            "grid_row": null,
            "grid_template_areas": null,
            "grid_template_columns": null,
            "grid_template_rows": null,
            "height": null,
            "justify_content": null,
            "justify_items": null,
            "left": null,
            "margin": null,
            "max_height": null,
            "max_width": null,
            "min_height": null,
            "min_width": null,
            "object_fit": null,
            "object_position": null,
            "order": null,
            "overflow": null,
            "overflow_x": null,
            "overflow_y": null,
            "padding": null,
            "right": null,
            "top": null,
            "visibility": null,
            "width": null
          }
        },
        "0a69711627f4463d82aab1e7bed18336": {
          "model_module": "@jupyter-widgets/controls",
          "model_name": "VBoxModel",
          "model_module_version": "1.5.0",
          "state": {
            "_dom_classes": [
              "widget-interact"
            ],
            "_model_module": "@jupyter-widgets/controls",
            "_model_module_version": "1.5.0",
            "_model_name": "VBoxModel",
            "_view_count": null,
            "_view_module": "@jupyter-widgets/controls",
            "_view_module_version": "1.5.0",
            "_view_name": "VBoxView",
            "box_style": "",
            "children": [
              "IPY_MODEL_d110cb35140d45bc87512a104b1008ce",
              "IPY_MODEL_195ae914f23e453690aa63d270abd20b",
              "IPY_MODEL_64c482b609e749e6b949d195a4488be3"
            ],
            "layout": "IPY_MODEL_078e27e3fad64c2492f4dcc427ecc8e4"
          }
        },
        "d110cb35140d45bc87512a104b1008ce": {
          "model_module": "@jupyter-widgets/controls",
          "model_name": "FloatSliderModel",
          "model_module_version": "1.5.0",
          "state": {
            "_dom_classes": [],
            "_model_module": "@jupyter-widgets/controls",
            "_model_module_version": "1.5.0",
            "_model_name": "FloatSliderModel",
            "_view_count": null,
            "_view_module": "@jupyter-widgets/controls",
            "_view_module_version": "1.5.0",
            "_view_name": "FloatSliderView",
            "continuous_update": true,
            "description": "q",
            "description_tooltip": null,
            "disabled": false,
            "layout": "IPY_MODEL_18f60c593b1e4ca8a25bbec4716ebfe2",
            "max": 1,
            "min": 0,
            "orientation": "horizontal",
            "readout": true,
            "readout_format": ".2f",
            "step": 0.1,
            "style": "IPY_MODEL_ad861c544a484efe88d14899a774aaa3",
            "value": 0.5
          }
        },
        "195ae914f23e453690aa63d270abd20b": {
          "model_module": "@jupyter-widgets/controls",
          "model_name": "FloatSliderModel",
          "model_module_version": "1.5.0",
          "state": {
            "_dom_classes": [],
            "_model_module": "@jupyter-widgets/controls",
            "_model_module_version": "1.5.0",
            "_model_name": "FloatSliderModel",
            "_view_count": null,
            "_view_module": "@jupyter-widgets/controls",
            "_view_module_version": "1.5.0",
            "_view_name": "FloatSliderView",
            "continuous_update": true,
            "description": "E",
            "description_tooltip": null,
            "disabled": false,
            "layout": "IPY_MODEL_710b9f84541a4fc884f70eb6fc5b1226",
            "max": 11,
            "min": 0,
            "orientation": "horizontal",
            "readout": true,
            "readout_format": ".2f",
            "step": 0.1,
            "style": "IPY_MODEL_662fa1496cd040ed8e6e13b95892130a",
            "value": 9
          }
        },
        "64c482b609e749e6b949d195a4488be3": {
          "model_module": "@jupyter-widgets/output",
          "model_name": "OutputModel",
          "model_module_version": "1.0.0",
          "state": {
            "_dom_classes": [],
            "_model_module": "@jupyter-widgets/output",
            "_model_module_version": "1.0.0",
            "_model_name": "OutputModel",
            "_view_count": null,
            "_view_module": "@jupyter-widgets/output",
            "_view_module_version": "1.0.0",
            "_view_name": "OutputView",
            "layout": "IPY_MODEL_9f2e0fff00d2404586e6676eed0107de",
            "msg_id": "",
            "outputs": [
              {
                "output_type": "display_data",
                "data": {
                  "text/plain": "<Figure size 432x288 with 1 Axes>",
                  "image/png": "iVBORw0KGgoAAAANSUhEUgAAAXcAAAD8CAYAAACMwORRAAAABHNCSVQICAgIfAhkiAAAAAlwSFlzAAALEgAACxIB0t1+/AAAADh0RVh0U29mdHdhcmUAbWF0cGxvdGxpYiB2ZXJzaW9uMy4yLjIsIGh0dHA6Ly9tYXRwbG90bGliLm9yZy+WH4yJAAAgAElEQVR4nO3dd3hUVf7H8fdJh0ASUgkhECChlwChCFIEFJWO9Kqi6Npd11VXXcvq7uquda0oSpUivdgBURGQ0EKHEEoSAukhvc35/THDbn4KJpCZuTOT7+t58mTmTjnfeW7yyc25556jtNYIIYRwLW5GFyCEEML6JNyFEMIFSbgLIYQLknAXQggXJOEuhBAuSMJdCCFcULXhrpTyUUr9opTar5Q6pJR6wbK9hVJqp1IqUSm1TCnlZdnubbmfaHk8yrYfQQghxK/V5Mi9FBikte4CxAI3K6V6A68Ab2ito4EcYJbl+bOAHMv2NyzPE0IIYUfVhrs2K7Dc9bR8aWAQsMKyfT4w2nJ7lOU+lscHK6WU1SoWQghRLY+aPEkp5Q7sBqKBd4GTQK7WusLylBQgwnI7AkgG0FpXKKXygCAg81fvORuYDeDr69u9bdu2tfskQojLM1VAViJUlEJgC/D2M7oiYSW7d+/O1FqHXO6xGoW71roSiFVKBQCrgVonsdZ6DjAHIC4uTsfHx9f2LYUQv1aYCQtGQZYvTFoD0UOMrkhYkVLqzJUeu6rRMlrrXGALcB0QoJS69MehKZBquZ0KRFoa9gD8gayrrFkIUVsFGTB/hPmoffJSCfY6piajZUIsR+wopeoBNwJHMIf8OMvTZgJrLbfXWe5jeXyzltnJhLCvgnSYPxyyT8GU5dDqBqMrEnZWk26ZcGC+pd/dDViutd6glDoMLFVKvQTsBeZanj8XWKiUSgSygUk2qFsIcSX5F8xH7HnJMPVzaNHP6IqEAaoNd611AtD1MtuTgJ6X2V4CjLdKdUKIq5N/HuYNh4vnYOoKiOprdEXCIDU6oSqEcAIXz5mP2PPPw7QV0LyP0RUJA0m4C+EK8lLNfewFGTBtJTTrbXRFwmAS7kI4u7wUc1dMYSZMXwWRv+ktFXWQhLsQziz3rDnYi3NgxhpoGmd0RcJBSLgL4axyzpi7YorzzMEe0d3oioQDkXAXwhnlnDYfsZdetAR7N6MrEg5Gwl0IZ5OdBPNGQFkBzFgHTWKNrkg4IAl3IZxJ1knzcMfyYpi5HsI7G12RcFAS7kI4i8xEcx97ZZk52Bt3NLoi4cAk3IVwBpknzH3spgqYuQHC2htdkXBwEu5COLqMY+auGG2C2zdAaDujKxJOQMJdCEeWftQc7GA+Yg+VRW1EzVzVfO5CCDu6cBjmDQPlBrdvlGAXV0WO3IVwROcPwoKR4O5lPmIPjja6IuFk5MhdCEdz/oC5K8bd23zELsEuroGEuxCOJG2/Odg965lPnga1Mroi4aQk3IVwFOf2wvyR4NXAfMQuwS5qQcJdCEeQuhsWjAJvP3OwB7YwuiLh5OSEqhBGS4mHhWOhXoC5Kyagmd1LMJk0aRdLOJ9XQkFpBYWlFWgNPp5u1PfyINzfh8b+Pvh4utu9NnFtJNyFMFLyLlg0FuoHmkfFBETavEmtNSfSC9h1OpvdZ3JISMnjbHYRZRWmal/bPKg+HSP86RoZwIDWIUSHNkApZfOaxdWTcBfCKGd3wqLbwDfYfMTu39RmTWmtiT+TwxcH0vj28AVScooBCG7gRWxkAIPbhtI8yJfwAB8aenvg6+2Bm1KUVlSSX1JBWl4JqTnFHD1/kf3JuWxMSOOljUeICKjH8C7hjOvWlJiwhjarX1w9CXchjHBmOyweBw3CzMHu18QmzWQVlLJyTwpLdyWTlFGIl4cb10cHc9/AaPpGB9EssP41HXmn5haz9VgGm45c4OMfT/Hh1iS6N2/EPf1bMqRdGG5ucjRvNKW1NroG4uLidHx8vNFlCGEfp7fB4vHmQJ+5HvzCrd5ESk4Rc35IYtmuZEorTHRv3ohJPSK5tVM4vt7WPabLyC9l7b5U5m8/TXJ2MdGhDfjTTW0Y2iFMumxsTCm1W2t92bUVJdyFsKdTP8JnE8xdMDPXQ8PGVn3783klvPHtcVbuSQFgbLcI7urXktZ26DKpqDSx8UAa72xO5ER6AT2jAvnriPZ0jPC3edt1lYS7EI4gaSt8NhEaNTcHe4NQq711UVkFH25NYs4PSVSaNFN6NePu/i2JCKhntTZqqqLSxLL4ZF7/5ji5xeXc3a8ljwyJkZE2NvB74V7tOHelVKRSaotS6rBS6pBS6mHL9ueVUqlKqX2Wr1urvOYppVSiUuqYUmqo9T6KEE4q6XtLsEeZR8VYMdi/PXyBQf/eylubTjCobSjf/XEAz4/sYEiwA3i4uzG1V3M2/2kg47o15YOtJ7n17R85fO6iIfXUVdUeuSulwoFwrfUepVRDYDcwGpgAFGit//2r57cHlgA9gSbAd0BrrXXlldqQI3fh0hI3wdIpENgKZq4zj46xgoz8Up5fd4iNB9Jo27ghL43uSFxUoFXe25p+PJHBnz7fT25ROS+O6sCEuEjpi7eSWh25a63TtNZ7LLfzgSNAxO+8ZBSwVGtdqrU+BSRiDnoh6p4T38GSyRAUY+6KsVKwb0g4x5DXt/Lt4Qv86abWrHvgeocMdoB+MSFsfKgfPaICeWLlAR5fkUBpxRWP9YSVXNX0A0qpKKArsNOy6QGlVIJS6hOlVCPLtgggucrLUrjMHwOl1GylVLxSKj4jI+OqCxfC4R3/BpZOhpA2liP2oFq/ZVFZBU+sSOCBz/bSItiXLx7uxwODYvDycOyZRIIbeDP/zp48PDiGFbtTmPnJL+QVlRtdlkur8U+EUqoBsBJ4RGt9EXgfaAXEAmnAa1fTsNZ6jtY6TmsdFxIScjUvFcLxHfsKlk01L4k3Y635CtRaOnzuIsP/8xPLdydz/w2t+Pze64gObWCFYu3D3U3x6I2teWtSLHvO5DL2/W0kZxcZXZbLqlG4K6U8MQf7Yq31KgCt9QWtdaXW2gR8xP+6XlKBqtdQN7VsE6JuOPoFLJsGYR2sFuzr9p9j7PvbKCipYPGsXjw+tC2e7o59tH4lo2IjWDCrJ5kFZUz4cDunMguNLskl1WS0jALmAke01q9X2V71yosxwEHL7XXAJKWUt1KqBRAD/GK9koVwYEc2wPIZEN4Zpq+Beo2qf83vqDRp/vHlER5aspdOEf5sfKgffaKt029vpN4tg1g6uzelFSYmzdnOyYwCo0tyOTX5098XmA4M+tWwx1eVUgeUUgnADcCjAFrrQ8By4DDwFXD/742UEcJlHF4Ln8+EJrEwfbV5lsdayCsu5855u/hwaxJTezVj8V29CWnobaVijdcu3I8ld/emolIzac4OCXgrk4uYhLCGQ6thxSxoGgdTV4CPX63eLi2vmNs/2UVSZgEvjOzIlF72nwbYXk5cyGfSnB34eLqz6r4+hPn5GF2S06jVUEghRDUOrrQEew+YtrLWwX7sfD5j3/uZ1Nxi5t3R06WDHSAmrCHz7uhJblGZeRRNsYyisQYJdyFq48AKWHkXRPaCaSvAu3ZzuOxIymLcBz9TadIsv+c6+rpA/3pNdGrqz5wZcZzMKODu+fGUlEtPbm1JuAtxrfYvg1V3Q7M+MPXzWgf75qMXmPHJL4T5+bDqvj60b1K7/wCcTd/oYF6fEMsvp7N5Zs1BHKHL2JnJfO5CXIt9S2DNHyDqepiyDLx8a/V2Xx08z4NL9tC2sR8L7uxJI18vKxXqXEZ0aUJiegFvbTpBu3A/Zl0va8leKzlyF+Jq7V1kDvaWA2DK8loH+7r957j/sz10ivBn0V296mywX/Lw4BiGdgjj5Y2H+eG4XL1+rSTchbgaexbA2geg5UCYvBS86tfq7VbsTuGRpXvp3rwRC2b1wr+ep1XKdGZuborXJ8TSOqwhDy7ZS2pusdElOSUJdyFqavc8WPcgtBoEk5eAZ+2m1F27L5XHV+ynT6tg5t/RkwZWXiHJmfl6e/DBtO5UmjQPLdlLeWX1i3eL/0/CXYia2DUX1j8MMTfBpM9qHexfHTzPH5fvp1eLQD6eGUc9L1nI4teign35+9hO7D6TwxvfHje6HKcj4S5EdX75CDb+EVrfDBMXgWftLrL5/lg6Dy7ZQ+em/nw8s4esUPQ7RnZpwuSekbz3/Unpf79KEu5C/J6dH8IXf4I2t8KEBeBRu8v/dyRlcc/C3cSENmTe7dIVUxN/Hd6B1mENLAt+lBldjtOQcBfiSra/B1/+GdoOh/Hzax3sB1LymDVvF5GB9Vk4qyf+9eXkaU3U83Ln9QmxZBeW8dy6Q0aX4zQk3IW4nJ/fga+fgnYjYPw88Kjd8MTk7CLumLeLgPpeLJrVi6AGrjMBmD10jPDnwUExrN13ji8PpBldjlOQcBfi17a9Bd88De1Hw7hPwb12R9jZheY5U8orTcy/sweN/WVirGtx3w2t6BThz9NrDpJZUGp0OQ5Pwl2Iqn58Hb79K3QYC7fNrXWwF5dVMmv+LlJyi5k7M47o0NpNUVCXebq78dqELhSUVPC3DYeNLsfhSbgLcckP/4JNL0Cn8TD2I3Cv3cnOSpPmoaV72Zecy9uTYh12AWtn0jqsIfcObMXafef48YSMnvk9Eu5CAGx9FTa/BJ0nwpgPax3sAC+sP8S3hy/w/IgO3NwxvPoXiBq5b2ArWgT78uyagzJ75O+QcBfi+3/Clpehy2QY/T641X7c+YLtp1mw/Qyz+7dkZp+oWr+f+B8fT3f+Nqojp7OKeG9LotHlOCwJd1F3aQ2bX4bv/wGxU2HUu1YJ9h9PZPDC+sMMaRfKEze3tUKh4teujwlmTNcI3t96ksR0WZ7vciTcRd2kNWz+G/zwKnSdDiPfsUqwJ2UUcP/iPUSHNODNSV1xd1NWKFZcztPD2uHj6c5LG+Xk6uVIuIu6R2v47nn48TXofjuMeBvcav+rkFdUzl3z4/Fwd+PjmXFy9amNBTfw5uHBMXx/LIMtx9KNLsfhSLiLukVr81DHbW9C3J0w7A2rBHtFpYn7P9tDck4RH07vTmRg7aYCFjUz47ooooLq8/LGIzJz5K9IuIu6Q2v45hn4+W3ocRcMe90qwQ7w8hdH+Ckxk5fHdKKHDHm0Gy8PN54e1p7E9AI+23nW6HIcioS7qBu0hq+egu3vQM974NZ/g7JOf/jafal8uu00d/SNYkJcpFXeU9TckHah9I0O4o3vjsvEYlVIuAvXpzV8+QTsfB963we3vGK1YD+SdpEnVibQs0Ugf7m1nVXeU1wdpRTPDGvPxeJy3tksQyMvqTbclVKRSqktSqnDSqlDSqmHLdsDlVLfKqVOWL43smxXSqm3lVKJSqkEpVQ3W38IIa7IZDJP2fvLh3DdAzD071YL9rzicu5dtBs/H0/emdIVT3c5VjJKu3A/xnRtyoIdZ0jLk2X5oGZH7hXAY1rr9kBv4H6lVHvgSWCT1joG2GS5D3ALEGP5mg28b/WqhagJkwm+eAx2fQx9HoKbXrJasJtMmseW7yM1p5j3p3UjtKFMBma0R4bEoLXm7U0njC7FIVQb7lrrNK31HsvtfOAIEAGMAuZbnjYfGG25PQpYoM12AAFKKbn2WtiXyQQbHoH4T+D6R+HGF60W7ADvbknkuyPpPDu8Pd2bywlURxAZWJ8pPZuxPD6FU5mFRpdjuKv6P1IpFQV0BXYCYVrrSxMrnwfCLLcjgOQqL0uxbPv1e81WSsUrpeIzMmQCIGFFJhOsfwj2zId+f4LBz1k12Lcez+D1744zOrYJM65rbrX3FbV3/6BovNzdeF3WXK15uCulGgArgUe01herPqa11oC+moa11nO01nFa67iQkJCreakQV2aqhHUPwN6FMOAJGPSMVYM9La+YR5bupU1YQ/4xtjPKiu8tai+0oQ939I1i/f5zHDqXZ3Q5hqpRuCulPDEH+2Kt9SrL5guXulss3y9dIpYKVB0P1tSyTQjbMlXCmvtg32IY+BTc8BerBntFpYmHluylrMLEe1O7Uc9LFrZ2RPcMaEVDH4863/dek9EyCpgLHNFav17loXXATMvtmcDaKttnWEbN9AbyqnTfCGEbpkpYfS8kLIUbnoaBT1b/mqv05ncn2HU6h7+P7UTLkAZWf39hHf71PLmjbwu+PnSBo+cvVv8CF1WTI/e+wHRgkFJqn+XrVuCfwI1KqRPAEMt9gC+AJCAR+Ai4z/plC1FFZQWsmg0HlsOgZ2HAn63exI8nMnj3+0QmxkUyKvY3p5CEg7mzbxS+Xu51etx7tTMbaa1/Aq70v+3gyzxfA/fXsi4haqayAlbdDYdWwZDnzSNjrCz9YgmPLttHdEgDnh/ZwervL6wvoL4X06+L4sMfTvJoRgGt6uB/WnLVhXBeleWw8k5zsN/4N5sEe6VJ88iyfRSUVvCu9LM7lbv6tcDbw4136+iCHhLuwjlVlMGKO+DwWvNVp30fskkz725J5OeTWbw4siOtw2Rxa2cS3MCbqb2as3bfOc5mFRldjt1JuAvncynYj6yHm/8J19mmF3BHUhZvWsazj49rapM2hG3N7t8SdzfFBz+cNLoUu5NwF86lohQ+nwlHN8Atr0LvP9ikmbyich5dto/mQb68NKaTjGd3UmF+PoztGsHK3SlkFZQaXY5dSbgL51FRCsumw7EvzFP29rrHJs1orfnL6gNk5Jfy1qRYWVHJyd3VrwWlFSYW7jhjdCl2JeEunEN5CSydCie+huFvQM+7bdbUyj2pbDyQxqM3tqZz0wCbtSPsIzq0IYPbhrJg+xlKyiuNLsduJNyF4ysvhqVTIPFbGPGWeXk8GzmTVchzaw/Ss0Ug9w5oZbN2hH3d3b8l2YVlrNyTYnQpdiPhLhxbeTEsmQwnN8PId8wLWttIRaWJR5ftw81N8cbEWNzdpJ/dVfRqEUjnpv7M/fEUJtNVTYPltCTcheMqK4LPJkLS9zDqXeg23abNvbMlkT1nc3l5TCciAurZtC1hX0op7urXkqTMQr47csHocuxCwl04prJC+GwCnPoBRr8PXafatLndZ3J4e9MJxnaNYGSXJjZtSxjj1o6NiQiox6fbThtdil1IuAvHU1oAiyfAmW0wdg7ETrZpc/kl5TyybC9NAurxwiiZXsBVebi7MbV3M7YnZXH8Qr7R5dichLtwLKX5sHg8nP0Zxn4EnSfYvMnn1x0mNaeYNyfG0tDH0+btCeNMjIvEy8ONhdtdf1ikhLtwHKX5sGgcJO+E2z6GTuNs3uRXB8+zck8KD9wQTVyULJfn6oIaeDOicxNW7Ukhv6Tc6HJsSsJdOIaSi7BwLKTsgnFzoeNtNm8ys6CUp1cfoGOEHw8OjrF5e8IxzOzTnMKySlbtce01hCTchfFK8mDRWDi3B8bPgw5jbN6k1ppnVh8kv6SC1yfE4ukuvwp1ReemAXSJDGD+9tOYZyh3TfITLYxVnAsLx8C5fTB+PrQfaZdm1+47x1eHzvPYTa1ltsc6aOZ1zUnKKGRbYpbRpdiMhLswTnEOLBwNaQkwcSG0G26XZs/nlfDXtQfp3rwRd/VraZc2hWO5tVM4Qb5ezN9+2uhSbEbCXRijKBsWjIILh2DiImhzi12a1VrzxMoEyis1r43vIleh1lE+nu5M6BHJpiMXOJ9XYnQ5NiHhLuyvKBsWjIT0ozBxMbS52W5NL/klma3HM3jq1rZEBfvarV3heCb1iMSkYcXuZKNLsQkJd2FfhVkwfyRkHIfJn0Hrm+zW9NmsIl7aeJi+0UFM69Xcbu0Kx9Q8yJc+rYJYFp/skvPNSLgL+ynMhPkjIOsETFkK0UPs1rTJpPnTiv24K8Wr47rgJt0xApjYI5Lk7GK2J7neiVUJd2EfBekwbzhkJ8GUZdBqkF2b//Tn0/xyKpu/jmgvk4KJ/xraoTH+9TxZusv1umYk3IXt5V8wB3vOaZi6HFoOtGvziekFvPrVUYa0C2Vcd1kLVfyPj6c7Y7pG8PXB8+QUlhldjlVJuAvbyj8P84dDXjJMWwEt+tu1+YpKE499vp96Xu78fayshSp+a2KPSMoqTaze61pXrEq4C9u5mAbzhkFeKkxbCVHX272EuT+dYn9yLi+O6khoQx+7ty8cX7twP7pEBrBsV7JLXbFabbgrpT5RSqUrpQ5W2fa8UipVKbXP8nVrlceeUkolKqWOKaWG2qpw4eAunjMHe/55mL4KmvexewlJGQW8/u1xbmofxojO4XZvXziPST0iOXYhn33JuUaXYjU1OXKfB1xuIPIbWutYy9cXAEqp9sAkoIPlNe8ppdytVaxwEnkp8Omt5pOo01ZBs952L8FkMl+s5O3hxkujO0p3jPhdwzuH4+3h5lKTiVUb7lrrH4DsGr7fKGCp1rpUa30KSAR61qI+4Wxyk81H7EVZMH01NOtlSBkLd5xh1+kcnh3enlA/6Y4Rv6+hjydDOzRmfcI5yipMRpdjFbXpc39AKZVg6bZpZNkWAVQdU5Ri2fYbSqnZSql4pVR8RkZGLcoQDiP3rCXYc2D6GojsYUgZydlFvPLVUfq3DpHRMaLGxnSLILeonC3H0o0uxSquNdzfB1oBsUAa8NrVvoHWeo7WOk5rHRcSEnKNZQiHkXMaPh0GJbkwYw007W5IGVprnlp1AAX8Q0bHiKvQLzqY4AberNqTYnQpVnFN4a61vqC1rtRam4CP+F/XSyoQWeWpTS3bhCvLPmUex156EWasg4huhpWyPD6ZnxIzefLWdnKxkrgqHu5ujIptwuaj6eQWOf+Y92sKd6VU1aEHY4BLI2nWAZOUUt5KqRZADPBL7UoUDi3rpLkrpqwAZq6DJrGGlXI+r4SXNh6hV4tApvZsZlgdwnmN7RZBeaVmfUKa0aXUmkd1T1BKLQEGAsFKqRTgOWCgUioW0MBp4B4ArfUhpdRy4DBQAdyvta60TenCcFknzUfsFSUwcz007mRYKVprnl59gPJKE6/c1lnmjhHXpH24H23CGrJ6TwrTezv35HLVhrvWevJlNs/9nee/DLxcm6KEE8g8YZ4ErLLMEuwdDS1n3f5zbDqazjPD2slUvuKaKaUY2y2Cf3x5lFOZhbRw4p8luUJVXL2M4+aumMpymLnB8GDPLCjl+XWHiI0M4I6+LQytRTi/UbERKAWrnfzEqoS7uDrpR83BrjXcvhHC2htdEc+tO0RhaSX/GtdZVlYStdbY34c+rYJYn5Dm1NMRSLiLmrtw2DwJmFLmYA9ta3RFfHXwPBsT0nhocDQxstC1sJLhnZtwKrOQQ+cuGl3KNZNwFzVz4ZC5j125m4M9pLXRFZFbVMazaw/SPtyPewa0Mroc4UJu7tAYDzfF+oRzRpdyzSTcRfXOHzAHu7unOdiDY4yuCIC/bThCdmEZr47rjKe7/CgL62nk68X1McFs2O+8XTPyGyF+X1qCOdg9fCzBHm10RQBsOZbOyj0p/GFAKzpG+BtdjnBBIzo3ITW3mL1OOlOkhLu4snP7zMHu6Qu3b4Agx+j6yC8p5+lVB4gObcCDgx3jj41wPTd2CMPL3Y31+52za0bCXVxe6h5YMBK8/eCOjRDY0uiK/uufXx4l7WIJr47rjLeHzCgtbMPPx5OBbULYmJBGpcn5umYk3MVvpe6GBaPBx998xN4oyuiK/mv7ySwW7zzLrL4t6NasUfUvEKIWhndpQnp+KbtO13TWc8ch4S7+v5R4c7DXCzD3sTdynEuwi8oqeGJlAs2D6vPYTW2MLkfUAYPbhuLj6cYGJxw1I+Eu/if5F3Ow1w+CO76AAMeafOu1b45zNruIV27rTD0v6Y4Rtufr7cHgdmF8ceA8FZXOtYiHhLswO7sDFo6BBqHmI3Z/x1rkYveZHD7ZdoppvZvRu2WQ0eWIOmRYp3CyC8vYdTrH6FKuioS7gDM/w8Kx0LCxJdgvu3iWYUrKK3liZQJN/Ovx5C3tjC5H1DEDWofg7eHG14fOG13KVZFwr+tO/wSLxoFfE3Ow+4VX/xo7+8/mEySmF/D3sZ1o4F3tRKZCWJWvtwf9W4fw9aHzTnVBk4R7XXbqR1g83twFc/tG85G7gzmYmscHW5MY170pA1rLcozCGEM7NCYtr4SElDyjS6kxCfe6Kul7c7AHNDcPd2wYZnRFv1FeaeLxFQkE+nrx7DDjZ58UddeQdqG4uym+cqKuGQn3uujkZvhsovnCpJnrzSdRHdAH35/kSNpFXhrdEf/6nkaXI+qwgPpeXNcyiK8OOk/XjIR7XZP4HXw2CYKiLcHumF0dxy/k8/bmEwzvHM7QDo7XXSTqnqEdG3Mqs5AT6QVGl1IjEu51yYlvYckU83S9M9eDr2MOKaw0af68IoGGPp68MLKD0eUIAcDQ9mEoZV5DwBlIuNcVx7+GpVMgpA3MWAf1A42u6Io++ekU+5JzeW5Ee4IaeBtdjhAAhPr50K1ZIwl34UCOfQlLp0Joe5jp2MF+KrOQf39zjBvbhzGySxOjyxHi/7m5Q2MOp10kObvI6FKqJeHu6o5uhGXToXEnmLEW6jnuZFsmk+aJFQl4e7jx0uiOKCXroQrHcun8jzNc0CTh7soOr4PlMyC8C8xYY54MzIEt2nmGX05n8+zw9oT5+RhdjhC/0SyoPu3C/fjm0AWjS6mWhLurOrQGPr8dmnSD6avN0/c6sOTsIv755VH6tw5hXHfHmtdGiKqGtAsl/kw2OYVlRpfyu6oNd6XUJ0qpdKXUwSrbApVS3yqlTli+N7JsV0qpt5VSiUqpBKVUN1sWL67g4CpYcSc0jYNpK8HHz+iKfpfWmqdWHUAB/xjbSbpjhEMb1DYUk4atxzOMLuV31eTIfR5w86+2PQls0lrHAJss9wFuAWIsX7OB961TpqixAytg5V0Q2dMpgh1g2a5kfkrM5Klb2xERUM/ocoT4XV2aBhDcwJvvjjh210y14a61/gH49TIko4D5ltvzgdFVti/QZjuAAKWU481E5aoSlsOqu6FZb5i6ArwbGl1RtdLyinl54xF6twxkSk/Hmj9eiMtxc1MMahvC1uMZlDvwHO/X2uceprVOs9w+D1yamCQCSK7yvBTLtt9QSs1WSsUrpeIzMk3UDEoAABbdSURBVBz73xunsH8prL4HmveFqZ+DdwOjK6qW1pq/rDpAucnEK7d1xs1NumOEcxjUNoz8kgqHXn6v1idUtXmihauebEFrPUdrHae1jgsJccxL4J3Gvs9g9b0QdT1MWQ5evkZXVCNr9qWy5VgGjw9tS/Mg56hZCIB+McF4ubux6Ui60aVc0bWG+4VL3S2W75c+YSoQWeV5TS3bhK3sWQhr7oOWA2DyMvCqb3RFNZKeX8Lz6w7TrVkAt/eJMrocIa6Kr7cH17UKYvNR1wv3dcBMy+2ZwNoq22dYRs30BvKqdN8Ia9s9H9Y9AK1ugMlLnSbYAZ5be4ji8kpeHdcFd+mOEU5ocLtQTmUWcjLDMScSq8lQyCXAdqCNUipFKTUL+Cdwo1LqBDDEch/gCyAJSAQ+Au6zSdUC4j+B9Q9B9I0waQl4Os8oky8OpPHlwfM8MiSG6FDHPzcgxOUMamueKnuTg46aqXbNMq315Cs8NPgyz9XA/bUtSlTjl4/giz9BzFCYuBA8nGdyrezCMv669iCdIvyZ3a+l0eUIcc2aNqpP28YN2XQkndn9Wxldzm/IFarOZuccc7C3vsXpgh3gxfWHyCsu59VxnfFwlx8/4dwGtwsl/kwOeUXlRpfyG/Lb5Ux2fABfPg5thsGEBU4X7N8dvsCafee4/4Zo2oU7/sVVQlRncLswKk2a74873olVCXdnsf1d+OoJaDscxs8DDy+jK7oqOYVlPLX6AG0bN+S+gdFGlyOEVXRpGkBAfU9+OJ5pdCm/IeHuDLa9DV//BdqPcspgB3hu3SFyCst4bUIXvDzkx064Bnc3Rb8Y89WqJpNjra0qv2WO7qc34NtnocMYuG0uuDvfQtFfHkhj3f5zPDgohg5NHHt2SiGu1oDWIWQWlHLk/EWjS/l/JNwd2Y+vwXfPQ8fbYOzHThnsWQWlPLPmIB0j/LjvBscbUSBEbfWPCQYcb5ZICXdHtfVfsOlF6DQexswB92pHrTocrTXPrDlIfkkFr42PxVNGxwgXFOrnQ/twP7Yek3AX1fn+n7DlJeg8CcZ86JTBDrA+wXKx0o0xtGns+DNUCnGtBrQJYfeZHPJLHGdIpIS7I9Eatvwdvv8HxE6F0e+Bm7vRVV2T9PwS/rr2ILGRAXKxknB5A1qHUGHS/Hwyy+hS/kvC3VFoDZtfgq2vQNdpMPIdpw32S1P5FpdV8tqELnKxknB53Zo1ooG3h0P1u8tvnSPQ2ty//uO/odsMGPEfcHPeXbNqTyrfHUnn8aFtaBUic8cI1+fl4UafVkFsPZaBeRYW4zlvgrgKreG75+Cn16H7HTD8LacO9rS8Yp5ff4geUY24o28Lo8sRwm4GtAkhNbeYkxmFRpcCSLgbS2v45hnY9hbEzYJhrzt1sGuteXLlASoqNf+SqXxFHdM/xrzokKN0zThvkjg7rc1XnW5/B3rOhmGvOXWwAyzaeZatxzN48pa2RAXLykqibokMrE+rEF8J9zpNa/jqSdjxHvT6A9zyKijnPso9mVHAyxsP0y8mmOm9mxtdjhCG6N86hB1JWZSUVxpdioS73WkNXzwOOz+A3vfDzf9w+mAvrzTx6LJ9+Hi68+/xXWSha1Fn9YsJpqzCxO4zOUaXIuFuVyYTbHwMdn0EfR6EoS87fbAD/GfTCRJS8vj7mE6E+fkYXY4QhunZIggPN8W2RONniXTOSx+dkckEGx+F3fOg7yMw5HmXCPbdZ3J4Z0siY7tFcGuncKPLEcJQDbw9iI0McIhwlyN3ezCZYMPD5mDv95jLBHthaQV/XL6PcP96PD+yg9HlCOEQ+kYHk5CaZ/jqTBLutmaqhHUPwp4F0P/PMOhZlwh2gL9tOMzZ7CLemBiLn4/zzVgphC1cHxOM1rA9ydijdwl3WzJVwtoHYN8iGPAkDHraZYL960PnWbormXv6t6Jni0CjyxHCYXRpGkB9L3e2JRo7z4z0uduKqRLW3AcJS2HgX2DgE0ZXZDXp+SU8teoA7cP9+OONrY0uRwiH4uXhRq8WgYb3u8uRuy1UVsDqe8zBPugZlwp2k0nz+OcJFJRW8OakWFkyT4jL6BsdTFJmIedyiw2rQX4zra2yAlbPhgOfw+DnoP/jRldkVR//lMTW4xk8O6wdrcNkjnYhLud6y+pMRh691yrclVKnlVIHlFL7lFLxlm2BSqlvlVInLN8bWadUJ1BZDitnwcGVcOOL0O+PRldkVfuTc3n1q2MM7RDGNLkKVYgrahPWkOAGXs4b7hY3aK1jtdZxlvtPApu01jHAJst911dZDivuhMNr4KaXoO/DRldkVfkl5Ty0dC+hDb155bbOKBc5MSyELSil6NMqmG0nswybAtgW3TKjgPmW2/OB0TZow7FUlMHnt8ORdTD07+arT12I1ppn1xwkObuItyZ3JaC+l9ElCeHwro8OJiO/lBPpBYa0X9tw18A3SqndSqnZlm1hWus0y+3zQFgt23Bsl4L96Aa4+RW47n6jK7K6lXtSWbPvHI8MaU2PKBn2KERN9IkOAuCnE8Z0zdQ23K/XWncDbgHuV0r1r/qgNv8/ctn/SZRSs5VS8Uqp+IwMx5gi86pVlMLy6XBsI9z6b+h9r9EVWV1SRgF/XXuQ3i0Duf+GaKPLEcJpNG1Un+ZB9fn5pBOGu9Y61fI9HVgN9AQuKKXCASzf06/w2jla6zitdVxISEhtyjBGeQksmwbHvzIvstHzbqMrsrrSikoeXLIXbw833pzYVRbfEOIqXdcyiF9OZVNpsn+/+zWHu1LKVynV8NJt4CbgILAOmGl52kxgbW2LdDjlJbBsKpz4Boa/CT1mGV2RTby04QiHzl3kX+O60NhfZnsU4mr1bhnExZIKjqRdtHvbtblCNQxYbRk14QF8prX+Sim1C1iulJoFnAEm1L5MB1JeDEunwMktMOJt6D6z+tc4obX7Ulm44wz39G/JkPaufdpECFvp1dJ8jmpHUhYdI/zt2vY1h7vWOgnocpntWcDg2hTlsMqKYOlkSNoKo96BrtOMrsgmTlzI58mVB+gZFcifhrYxuhwhnFa4fz2iguqzIymbu/q1tGvbcoVqTZUVwpKJ5mAf/Z7LBnthaQX3LtqNr7c7/5nSFU93+RERojZ6twzil1NZdu93l9/cmigrhM8mwumfYMyHEDvF6IpsQmvNk6sOcCqzkLcnd5VVlYSwgkv97kfP27ffXcK9OqUFsHg8nNkGY+ZAl4lGV2QzC3ecYf3+czx2Uxv6tAo2uhwhXML/+t2z7dquhPvvKc2HxePg7A4Y+xF0Hm90RTaz92wOf9twmEFtQ/nDgFZGlyOEywj3r0fzoPrsSLLv/O4S7ldSchEW3QbJv8C4udBpnNEV2Uz6xRLuXbSbMD8fXp/QBTcZzy6EVfVuYR7vbrJjv7uE++WU5MGisZC6G8Z/Ch3GGF2RzZRWVHLvot1cLK5gzvQ4mTdGCBvo3SqQvOJyjtix313C/deKc2HhGDi3F8bPg/ajjK7IZrTW/HXNIfaczeXf47vQvomf0SUJ4ZJ6tTDPM2PPfncJ96qKc2DhaEhLgAkLoN0IoyuyqYU7zrAsPpkHbohmWOdwo8sRwmU1CbB/v7uE+yVF2bBgNFw4BBMXQtthRldkU9tPZvHi+sMMbhsq66AKYQf27neXcAdLsI+C9MMwcTG0ucXoimwqObuI+z/bQ/Og+rwxKVZOoAphB/bud5dwL8yC+SMh4xhMWgKtbzK6IpvKKy7nznm7qKg08dGMOPx8PI0uSYg6oael333XKfv0u9ftcC/MhPkjIOsETF4CMUOMrsimyitN3Ld4N6ezCvlgendahjQwuiQh6oyIgHpEBNRj15kcu7RXd8O9IMMc7NknYfJSiHbNuc4u0Vrz9OoDbEvM4h9jO8sVqEIYIC6qEfGns+2yrmrdDPeCdJg/HLJPwZTl0OoGoyuyufe+P8ny+BQeGhTNuO5NjS5HiDopLiqQCxdLSc4utnlbdS/c8y/AvOGQexamfg4tBxhdkc2t33+Of319jFGxTXhURsYIYZgeUY0A2HXa9v3udSvcL6bBvGGQlwJTV0CLfkZXZHM/J2by2PL99IwK5NVxnbEsriKEMEDr0Ib4+XgQf8b24V6blZicy8Vz5iP2ggswbSU0v87oimwuISWXuxfE0yLYlzkzuuPt4W50SULUaW5uirioQHadtv1J1bpx5J6Xaj5iL0iHaavqRLAnphdw+6e7aOTrxYJZPWXOGCEcRFxUIxLTC8guLLNpO64f7nkplmDPgOmroFkvoyuyuXO5xcyYuxM3BYtm9ZJFN4RwID2izPO7x9u43921wz33LHx6KxRlwYw1ENnT6IpsLrOglOlzd5JfUsH8O3sSFexrdElCiCo6Rfjj5e5GvI3Hu7tun3vOGfNwx5I8c7BHdDe6IpvLKihl6kc7Sc0tZv4dPenQxL6rrQshqufj6U6XSH+bj5hxzSP37FPmrpiSizBjbZ0I9uzCMqZ+vJPTWYXMndmDXi2DjC5JCHEFcVGBHEzNo7is0mZtuF64ZyeZR8WUFcDMddCkq9EV2VyOJdhPZZqDvW+0XH0qhCPrEdWI8krNvuRcm7XhWuGeddIc7OVFMGMdhHcxuiKbu3TEfjKjgI9mxHF9jAS7EI6uezPbn1R1nT73zERzH3tlGcxcD407Gl2RzaXlFTPt452k5BQzZ3p3+rcOMbokIUQN+Nf3pE1YQ5tOImazI3el1M1KqWNKqUSl1JO2ageAjOPmPvbKcpi5oU4E+6nMQsa9v50LF0tZcGdPBrYJNbokIcRV6NGiEXvO5FBpo8U7bBLuSil34F3gFqA9MFkp1d4WbZFxzBzsuhJu3wBhtmnGkRw6l8f4D36muLySpbN7y8lTIZxQj6hACkorOJJmm8U7bHXk3hNI1Fonaa3LgKWA1VeaPn1kN3nv34RJa7h9I4S2s3YTDuf7Y+lM/HAHXu5uLL/nOjpGyHBHIZxR9+bmScT2nLVN14ytwj0CSK5yP8Wy7b+UUrOVUvFKqfiMjIxraqQw+zy5ld78wfNF8hq0vPZqncTCHWe4c94uIgPrs/K+PkSHymIbQjiriIB6dIzwo6zCZJP3N2y0jNZ6jtY6TmsdFxJybScCO/QdxulJW9iS2YjbP/2FgtIKK1fpGCpNmr9tOMyzaw5yQ5tQVtx7HeH+9YwuSwhRC0opNjzYj7v62ebA1FbhngpEVrnf1LLN6ga0i+CdKV1JSMnjzk93cbGk3BbNGCa7sIw75u1i7k+nuL1PFHNmxOHr7TqDnIQQtmGrcN8FxCilWiilvIBJwDobtcVNHRrz9qSu7Dmbw+Q5O8gsKLVVU3a1PzmXEf/5iR0ns/j7mE48P7ID7m4yH7sQono2CXetdQXwAPA1cARYrrU+ZIu2LhnWOZyPZsZxMqOA8R9sJzm7yJbN2ZTWmoXbTzP+g+0ArPjDdUzp1czYooQQTkXZY6HW6sTFxen4+HirvFf86WzunLcLLw833pvanZ4tAq3yvvaSfrGEP69M4PtjGQxsE8IbE2Jp5CtzsQshfksptVtrHXe5x1xr+gHME/Ksuq8PDX08mfLRDhbtOGN0STX25YE0hr75A9tPZvHCyA58MrOHBLsQ4pq4XLgDRIc2ZM39fekbHcwzaw7y6LJ9Dn2iNTW3mNkL4vnD4j1EBtZn40P9mNknCjfpXxdCXCOXHXbhX8+TT27vwX82n+A/mxP55VQ2r03oQm8HupqztKKSedtO8+Z3JwB48pa2zLq+BZ7uLvk3VwhhRy7X5345e8/m8OiyfZzOKmJCXFP+fHNbght426y96lSaNGv3pfL6t8dJySlmSLswnh/ZnqaN6htWkxDC+fxen3udCHeAorIK3tp0grk/nqKelzsPD45hWu/m+Hi627TdqsorTXxxII33tpzk2IV8Okb48eehbWU2RyHENZFwryIxvYAX1h/ixxOZBDfwZnb/Fkzq2Qw/H0+btZldWMbK3Sl8uu0U5/JKaBXiyyNDWjOsU7j0qwshrpmE+2XsTMriP5sT+Skxk3qe7ozoEs647pF0b97IKhcKFZRW8OPxDFbvTWXLsXTKKzXXtQzi7v4tGNg6VEJdCFFrvxfuLntCtTq9WgbRq2UQB1LyWLzzDOv2n2N5fApBvl7c0DaUni0C6dasES2DfWsUxLlFZSSk5JGQksvPJ7PYdTqb8kpNSENv7ujbgrHdImjb2M8On0wIIerwkfuvFZRW8P2xdL45dIGtxzPIKzYPnfTycKNZYH0iAurhV8+TBt7uaA2lFSYKSys4f7GE1JxisgrL/vtercMacEPbUAa2DqVHVCM8ZPSLEMIG5Mi9Bhp4ezC8cxOGd26CyaRJyixgz5lcEjMKOJNVyLncEs5mF5FfUoGbAm9PN+p5uhPm50OHJn40C/SlU4Q/nSL88a9vu/57IYSoCQn3y3BzU0SHNiQ6tKHRpQghxDVxiG4ZpVQGcK3zBAQDmVYsxxnIZ64b5DPXDbX5zM211pcdS+0Q4V4bSqn4K/U5uSr5zHWDfOa6wVafWc70CSGEC5JwF0IIF+QK4T7H6AIMIJ+5bpDPXDfY5DM7fZ+7EEKI33KFI3chhBC/IuEuhBAuyKnDXSl1s1LqmFIqUSn1pNH12IJSKlIptUUpdVgpdUgp9bBle6BS6lul1AnL90ZG12pNSil3pdRepdQGy/0WSqmdln29TCnlUusPKqUClFIrlFJHlVJHlFLX1YF9/KjlZ/qgUmqJUsrH1fazUuoTpVS6UupglW2X3a/K7G3LZ09QSnWrTdtOG+5KKXfgXeAWoD0wWSnV3tiqbKICeExr3R7oDdxv+ZxPApu01jHAJst9V/IwcKTK/VeAN7TW0UAOMMuQqmznLeArrXVboAvmz+6y+1gpFQE8BMRprTsC7sAkXG8/zwNu/tW2K+3XW4AYy9ds4P3aNOy04Q70BBK11kla6zJgKTDK4JqsTmudprXeY7mdj/mXPgLzZ51vedp8YLQxFVqfUqopMAz42HJfAYOAFZanuNrn9Qf6A3MBtNZlWutcXHgfW3gA9ZRSHkB9IA0X289a6x+A7F9tvtJ+HQUs0GY7gAClVPi1tu3M4R4BJFe5n2LZ5rKUUlFAV2AnEKa1TrM8dB4IM6gsW3gT+DNgstwPAnK11hWW+662r1sAGcCnlq6oj5VSvrjwPtZapwL/Bs5iDvU8YDeuvZ8vudJ+tWqmOXO41ylKqQbASuARrfXFqo9p83hWlxjTqpQaDqRrrXcbXYsdeQDdgPe11l2BQn7VBeNK+xjA0s88CvMftiaAL7/tvnB5ttyvzhzuqUBklftNLdtcjlLKE3OwL9Zar7JsvnDpXzbL93Sj6rOyvsBIpdRpzF1tgzD3RwdY/n0H19vXKUCK1nqn5f4KzGHvqvsYYAhwSmudobUuB1Zh3veuvJ8vudJ+tWqmOXO47wJiLGfXvTCfjFlncE1WZ+lvngsc0Vq/XuWhdcBMy+2ZwFp712YLWuuntNZNtdZRmPfpZq31VGALMM7yNJf5vABa6/NAslKqjWXTYOAwLrqPLc4CvZVS9S0/45c+s8vu5yqutF/XATMso2Z6A3lVum+untbaab+AW4HjwEngaaPrsdFnvB7zv20JwD7L162Y+6E3ASeA74BAo2u1wWcfCGyw3G4J/AIkAp8D3kbXZ+XPGgvEW/bzGqCRq+9j4AXgKHAQWAh4u9p+BpZgPqdQjvk/tFlX2q+AwjwC8CRwAPNIomtuW6YfEEIIF+TM3TJCCCGuQMJdCCFckIS7EEK4IAl3IYRwQRLuQgjhgiTchRDCBUm4CyGEC/o/Kh9DwZu85/AAAAAASUVORK5CYII=\n"
                },
                "metadata": {
                  "needs_background": "light"
                }
              }
            ]
          }
        },
        "078e27e3fad64c2492f4dcc427ecc8e4": {
          "model_module": "@jupyter-widgets/base",
          "model_name": "LayoutModel",
          "model_module_version": "1.2.0",
          "state": {
            "_model_module": "@jupyter-widgets/base",
            "_model_module_version": "1.2.0",
            "_model_name": "LayoutModel",
            "_view_count": null,
            "_view_module": "@jupyter-widgets/base",
            "_view_module_version": "1.2.0",
            "_view_name": "LayoutView",
            "align_content": null,
            "align_items": null,
            "align_self": null,
            "border": null,
            "bottom": null,
            "display": null,
            "flex": null,
            "flex_flow": null,
            "grid_area": null,
            "grid_auto_columns": null,
            "grid_auto_flow": null,
            "grid_auto_rows": null,
            "grid_column": null,
            "grid_gap": null,
            "grid_row": null,
            "grid_template_areas": null,
            "grid_template_columns": null,
            "grid_template_rows": null,
            "height": null,
            "justify_content": null,
            "justify_items": null,
            "left": null,
            "margin": null,
            "max_height": null,
            "max_width": null,
            "min_height": null,
            "min_width": null,
            "object_fit": null,
            "object_position": null,
            "order": null,
            "overflow": null,
            "overflow_x": null,
            "overflow_y": null,
            "padding": null,
            "right": null,
            "top": null,
            "visibility": null,
            "width": null
          }
        },
        "18f60c593b1e4ca8a25bbec4716ebfe2": {
          "model_module": "@jupyter-widgets/base",
          "model_name": "LayoutModel",
          "model_module_version": "1.2.0",
          "state": {
            "_model_module": "@jupyter-widgets/base",
            "_model_module_version": "1.2.0",
            "_model_name": "LayoutModel",
            "_view_count": null,
            "_view_module": "@jupyter-widgets/base",
            "_view_module_version": "1.2.0",
            "_view_name": "LayoutView",
            "align_content": null,
            "align_items": null,
            "align_self": null,
            "border": null,
            "bottom": null,
            "display": null,
            "flex": null,
            "flex_flow": null,
            "grid_area": null,
            "grid_auto_columns": null,
            "grid_auto_flow": null,
            "grid_auto_rows": null,
            "grid_column": null,
            "grid_gap": null,
            "grid_row": null,
            "grid_template_areas": null,
            "grid_template_columns": null,
            "grid_template_rows": null,
            "height": null,
            "justify_content": null,
            "justify_items": null,
            "left": null,
            "margin": null,
            "max_height": null,
            "max_width": null,
            "min_height": null,
            "min_width": null,
            "object_fit": null,
            "object_position": null,
            "order": null,
            "overflow": null,
            "overflow_x": null,
            "overflow_y": null,
            "padding": null,
            "right": null,
            "top": null,
            "visibility": null,
            "width": null
          }
        },
        "ad861c544a484efe88d14899a774aaa3": {
          "model_module": "@jupyter-widgets/controls",
          "model_name": "SliderStyleModel",
          "model_module_version": "1.5.0",
          "state": {
            "_model_module": "@jupyter-widgets/controls",
            "_model_module_version": "1.5.0",
            "_model_name": "SliderStyleModel",
            "_view_count": null,
            "_view_module": "@jupyter-widgets/base",
            "_view_module_version": "1.2.0",
            "_view_name": "StyleView",
            "description_width": "",
            "handle_color": null
          }
        },
        "710b9f84541a4fc884f70eb6fc5b1226": {
          "model_module": "@jupyter-widgets/base",
          "model_name": "LayoutModel",
          "model_module_version": "1.2.0",
          "state": {
            "_model_module": "@jupyter-widgets/base",
            "_model_module_version": "1.2.0",
            "_model_name": "LayoutModel",
            "_view_count": null,
            "_view_module": "@jupyter-widgets/base",
            "_view_module_version": "1.2.0",
            "_view_name": "LayoutView",
            "align_content": null,
            "align_items": null,
            "align_self": null,
            "border": null,
            "bottom": null,
            "display": null,
            "flex": null,
            "flex_flow": null,
            "grid_area": null,
            "grid_auto_columns": null,
            "grid_auto_flow": null,
            "grid_auto_rows": null,
            "grid_column": null,
            "grid_gap": null,
            "grid_row": null,
            "grid_template_areas": null,
            "grid_template_columns": null,
            "grid_template_rows": null,
            "height": null,
            "justify_content": null,
            "justify_items": null,
            "left": null,
            "margin": null,
            "max_height": null,
            "max_width": null,
            "min_height": null,
            "min_width": null,
            "object_fit": null,
            "object_position": null,
            "order": null,
            "overflow": null,
            "overflow_x": null,
            "overflow_y": null,
            "padding": null,
            "right": null,
            "top": null,
            "visibility": null,
            "width": null
          }
        },
        "662fa1496cd040ed8e6e13b95892130a": {
          "model_module": "@jupyter-widgets/controls",
          "model_name": "SliderStyleModel",
          "model_module_version": "1.5.0",
          "state": {
            "_model_module": "@jupyter-widgets/controls",
            "_model_module_version": "1.5.0",
            "_model_name": "SliderStyleModel",
            "_view_count": null,
            "_view_module": "@jupyter-widgets/base",
            "_view_module_version": "1.2.0",
            "_view_name": "StyleView",
            "description_width": "",
            "handle_color": null
          }
        },
        "9f2e0fff00d2404586e6676eed0107de": {
          "model_module": "@jupyter-widgets/base",
          "model_name": "LayoutModel",
          "model_module_version": "1.2.0",
          "state": {
            "_model_module": "@jupyter-widgets/base",
            "_model_module_version": "1.2.0",
            "_model_name": "LayoutModel",
            "_view_count": null,
            "_view_module": "@jupyter-widgets/base",
            "_view_module_version": "1.2.0",
            "_view_name": "LayoutView",
            "align_content": null,
            "align_items": null,
            "align_self": null,
            "border": null,
            "bottom": null,
            "display": null,
            "flex": null,
            "flex_flow": null,
            "grid_area": null,
            "grid_auto_columns": null,
            "grid_auto_flow": null,
            "grid_auto_rows": null,
            "grid_column": null,
            "grid_gap": null,
            "grid_row": null,
            "grid_template_areas": null,
            "grid_template_columns": null,
            "grid_template_rows": null,
            "height": null,
            "justify_content": null,
            "justify_items": null,
            "left": null,
            "margin": null,
            "max_height": null,
            "max_width": null,
            "min_height": null,
            "min_width": null,
            "object_fit": null,
            "object_position": null,
            "order": null,
            "overflow": null,
            "overflow_x": null,
            "overflow_y": null,
            "padding": null,
            "right": null,
            "top": null,
            "visibility": null,
            "width": null
          }
        }
      }
    }
  },
  "cells": [
    {
      "cell_type": "code",
      "execution_count": 1,
      "metadata": {
        "id": "O730_rX32rQZ"
      },
      "outputs": [],
      "source": [
        "import numpy as np\n",
        "import matplotlib.pyplot as plt"
      ]
    },
    {
      "cell_type": "code",
      "source": [
        "from ipywidgets import (fixed,\n",
        "                        interact,\n",
        "                        interactive)"
      ],
      "metadata": {
        "id": "X8YngliZ285I"
      },
      "execution_count": null,
      "outputs": []
    },
    {
      "cell_type": "code",
      "source": [
        "def modelo_logistico(r=5, K=100):\n",
        "    plt.figure()\n",
        "    x = np.linspace(0, K, num=1000)\n",
        "    plt.ylim(0, r*K/4+2)\n",
        "    plt.plot(x, r*x*(1-x/K))\n",
        "    plt.show()"
      ],
      "metadata": {
        "id": "olAXyHjj3I7i"
      },
      "execution_count": null,
      "outputs": []
    },
    {
      "cell_type": "code",
      "source": [
        "modelo_logistico()"
      ],
      "metadata": {
        "colab": {
          "base_uri": "https://localhost:8080/",
          "height": 265
        },
        "id": "Z7lSGlpI4nyX",
        "outputId": "c5c74ce9-004a-45bf-d762-4de5193aaec1"
      },
      "execution_count": null,
      "outputs": [
        {
          "output_type": "display_data",
          "data": {
            "text/plain": [
              "<Figure size 432x288 with 1 Axes>"
            ],
            "image/png": "[encoded data removed]"
          },
          "metadata": {
            "needs_background": "light"
          }
        }
      ]
    },
    {
      "cell_type": "markdown",
      "source": [
        "Quiero que grafiquen estas dos funciones:\n",
        "\n",
        "$$F(N|r, K) = rN(1-\\frac{N}{K}) $$\n",
        "\n",
        "$$H(N|q, E) = qEN$$"
      ],
      "metadata": {
        "id": "Lz-70RPe4p6R"
      }
    },
    {
      "cell_type": "code",
      "source": [
        "def modelo_con_pesca(q, E, r=5, K=100):\n",
        "    plt.figure()\n",
        "    x = np.linspace(0, K, num=1000)\n",
        "    puntos_equilibrio = np.array([\n",
        "        [0, 0],\n",
        "        [K*(1-q*E/r), 0]\n",
        "    ])\n",
        "    plt.ylim(0, r*K/4+2)\n",
        "    plt.plot(x, r*x*(1-x/K))\n",
        "    plt.plot(x, q*E*x)\n",
        "    plt.scatter(puntos_equilibrio[:, 0], puntos_equilibrio[:, 1], c='r')\n",
        "\n",
        "    plt.show()\n",
        "\n",
        "interactive_plot = interactive(modelo_con_pesca, \n",
        "                               q=(0., 1.), \n",
        "                               E=(0.,11.),\n",
        "                               r=fixed(5),\n",
        "                               K=fixed(100))\n",
        "interactive_plot"
      ],
      "metadata": {
        "colab": {
          "base_uri": "https://localhost:8080/",
          "height": 329,
          "referenced_widgets": [
            "4f9c0ec9d00543e9a857cd2729274230",
            "7cc0f323b59b4045a6819caf42a0b6a4",
            "fac28664ef5a411aab1a1c7ade7aef4b",
            "46ad37375aa64869b1e057611a89caae",
            "b500634bc2f74120af34a1d180ed5381",
            "73b9c7892907403398ab69b44cc71444",
            "1848c4ef8e194c0e97b257b14442aacc",
            "5b4de1d1b004410fa00a28069be5eaf2",
            "66071824ed7c4ba28851764a0ae6de0b",
            "0646e7edd1e84cb6ae8f00bda73f439c"
          ]
        },
        "id": "hIQKxUJ77gKY",
        "outputId": "33339ded-ac52-4532-a59c-44e26b16b6b9"
      },
      "execution_count": null,
      "outputs": [
        {
          "output_type": "display_data",
          "data": {
            "text/plain": [
              "interactive(children=(FloatSlider(value=0.5, description='q', max=1.0), FloatSlider(value=5.5, description='E'…"
            ],
            "application/vnd.jupyter.widget-view+json": {
              "version_major": 2,
              "version_minor": 0,
              "model_id": "4f9c0ec9d00543e9a857cd2729274230"
            }
          },
          "metadata": {}
        }
      ]
    },
    {
      "cell_type": "code",
      "source": [
        "def rendimiento_h2(q=0.5, E=3., r=5, K=100):\n",
        "    plt.figure()\n",
        "    E = np.linspace(0, r/q, num=1000)\n",
        "    plt.ylim(0, r*K/4+2)\n",
        "    plt.plot(E, q*E*K*(1-q*E/r))\n",
        "    plt.scatter(r/(2*q), 0, c='red')\n",
        "    plt.show()\n",
        "\n",
        "rendimiento_h2()"
      ],
      "metadata": {
        "colab": {
          "base_uri": "https://localhost:8080/",
          "height": 265
        },
        "id": "CPvQS7BQ-3eT",
        "outputId": "61456f45-df62-47d4-efc5-c137c21e5c19"
      },
      "execution_count": null,
      "outputs": [
        {
          "output_type": "display_data",
          "data": {
            "text/plain": [
              "<Figure size 432x288 with 1 Axes>"
            ],
            "image/png": "[encoded data removed]"
          },
          "metadata": {
            "needs_background": "light"
          }
        }
      ]
    },
    {
      "cell_type": "code",
      "source": [
        "def modelo2_con_pesca(q, E, r=5, Nc=20, K=100):\n",
        "    plt.figure()\n",
        "    N = np.linspace(0, K, num=1000)\n",
        "    plt.ylim(-25, 300)\n",
        "    plt.plot(N, r*N*(N/Nc-1)*(1-N/K))\n",
        "    plt.plot(N, q*E*N)\n",
        "    plt.show()\n",
        "\n",
        "interactive_plot = interactive(modelo2_con_pesca, \n",
        "                               q=(0., 1.), \n",
        "                               E=(0.,11.),\n",
        "                               r=fixed(5),\n",
        "                               K=fixed(100),\n",
        "                               Nc=fixed(20))\n",
        "interactive_plot"
      ],
      "metadata": {
        "id": "6uOUsVt6FpBN",
        "outputId": "756adf74-7b82-4752-e9c0-6f791077d2b2",
        "colab": {
          "base_uri": "https://localhost:8080/",
          "height": 333,
          "referenced_widgets": [
            "0a69711627f4463d82aab1e7bed18336",
            "d110cb35140d45bc87512a104b1008ce",
            "195ae914f23e453690aa63d270abd20b",
            "64c482b609e749e6b949d195a4488be3",
            "078e27e3fad64c2492f4dcc427ecc8e4",
            "18f60c593b1e4ca8a25bbec4716ebfe2",
            "ad861c544a484efe88d14899a774aaa3",
            "710b9f84541a4fc884f70eb6fc5b1226",
            "662fa1496cd040ed8e6e13b95892130a",
            "9f2e0fff00d2404586e6676eed0107de"
          ]
        }
      },
      "execution_count": null,
      "outputs": [
        {
          "output_type": "display_data",
          "data": {
            "text/plain": [
              "interactive(children=(FloatSlider(value=0.5, description='q', max=1.0), FloatSlider(value=5.5, description='E'…"
            ],
            "application/vnd.jupyter.widget-view+json": {
              "version_major": 2,
              "version_minor": 0,
              "model_id": "0a69711627f4463d82aab1e7bed18336"
            }
          },
          "metadata": {}
        }
      ]
    },
    {
      "cell_type": "markdown",
      "source": [
        "### Lotka-Volterra\n",
        "$$\n",
        "    \\frac{\\textrm{d}x}{\\textrm{d}t} = rx-axy\n",
        "$$\n",
        "$$\n",
        "    \\frac{\\textrm{d}y}{\\textrm{d}t} = bxy+ky\n",
        "$$\n",
        "los parámetros que voy a considerar $r=10$, $a=3$, $k=5$ y $b=2$.\n",
        "Los puntos de equilibrio estarán dados por\n",
        "  - (0, 0)\n",
        "  - (5/2, 10/3)\n",
        "\n",
        "Dibujaré el plano fase"
      ],
      "metadata": {
        "id": "gVNpWSosMD50"
      }
    },
    {
      "cell_type": "code",
      "source": [
        "def f(x, y, r=10, a=3):\n",
        "    return r*x-a*x*y\n",
        "\n",
        "def g(x, y, k=5, b=2):\n",
        "    return b*x*y-k*y"
      ],
      "metadata": {
        "id": "ZYUFCgQQ-a0X"
      },
      "execution_count": 2,
      "outputs": []
    },
    {
      "cell_type": "code",
      "source": [
        "x = np.linspace(0, 7, 15)\n",
        "y = np.linspace(0, 10, 15)\n",
        "X, Y = np.meshgrid(x, y)\n",
        "\n",
        "dX = f(X, Y)\n",
        "dY = g(X, Y)"
      ],
      "metadata": {
        "id": "_i3IaxjB_KuB"
      },
      "execution_count": 5,
      "outputs": []
    },
    {
      "cell_type": "code",
      "source": [
        "ptos_equilibrio = np.array([[0, 0], [5/2, 10/3]])"
      ],
      "metadata": {
        "id": "a_J70mzj_iEo"
      },
      "execution_count": 4,
      "outputs": []
    },
    {
      "cell_type": "code",
      "source": [
        "plt.quiver(X, Y, dX, dY)\n",
        "plt.scatter(ptos_equilibrio[:, 0], ptos_equilibrio[:, 1], c='r')"
      ],
      "metadata": {
        "id": "9tE0ogs6_tUS",
        "outputId": "c63c6725-8107-41db-9860-3f530c035b22",
        "colab": {
          "base_uri": "https://localhost:8080/",
          "height": 284
        }
      },
      "execution_count": 7,
      "outputs": [
        {
          "output_type": "execute_result",
          "data": {
            "text/plain": [
              "<matplotlib.collections.PathCollection at 0x7fcfd5f40350>"
            ]
          },
          "metadata": {},
          "execution_count": 7
        },
        {
          "output_type": "display_data",
          "data": {
            "text/plain": [
              "<Figure size 432x288 with 1 Axes>"
            ],
            "image/png": "[encoded data removed]"
          },
          "metadata": {
            "needs_background": "light"
          }
        }
      ]
    },
    {
      "cell_type": "code",
      "source": [
        ""
      ],
      "metadata": {
        "id": "sf_4ouoQABDJ"
      },
      "execution_count": null,
      "outputs": []
    }
  ]
}