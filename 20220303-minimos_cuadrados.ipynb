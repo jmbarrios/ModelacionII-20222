{
  "nbformat": 4,
  "nbformat_minor": 0,
  "metadata": {
    "colab": {
      "name": "Copy of Práctica1.ipynb",
      "provenance": [],
      "authorship_tag": "ABX9TyMS5p8fLXGM8CAF1oNEsbep"
    },
    "kernelspec": {
      "name": "python3",
      "display_name": "Python 3"
    },
    "language_info": {
      "name": "python"
    }
  },
  "cells": [
    {
      "cell_type": "markdown",
      "source": [
        "# Trabajando con mínimos cuadrados\n"
      ],
      "metadata": {
        "id": "qKqwZ1VHg5Vo"
      }
    },
    {
      "cell_type": "code",
      "source": [
        "import numpy as np\n",
        "import pandas as pd\n",
        "from scipy import optimize \n",
        "\n",
        "import matplotlib.pyplot as plt\n",
        "import numpy.typing as npt"
      ],
      "metadata": {
        "id": "WjxiiSUDhRmx"
      },
      "execution_count": 1,
      "outputs": []
    },
    {
      "cell_type": "markdown",
      "source": [
        "## Trabajando con la encuesta"
      ],
      "metadata": {
        "id": "-QmQ2ZqQqNUH"
      }
    },
    {
      "cell_type": "code",
      "source": [
        "data = pd.read_csv('https://raw.githubusercontent.com/jmbarrios/ModelacionII-20222/main/data/data_clase.csv')"
      ],
      "metadata": {
        "id": "GQbZOae3hVp-"
      },
      "execution_count": 2,
      "outputs": []
    },
    {
      "cell_type": "code",
      "source": [
        "data"
      ],
      "metadata": {
        "id": "TsCIpm1FqRmm",
        "outputId": "07fc6cd1-45da-45b9-e442-ac4fc8c829b8",
        "colab": {
          "base_uri": "https://localhost:8080/",
          "height": 394
        }
      },
      "execution_count": 3,
      "outputs": [
        {
          "output_type": "execute_result",
          "data": {
            "text/html": [
              "\n",
              "  <div id=\"df-489a85a6-cf9b-42d3-b149-22310079d244\">\n",
              "    <div class=\"colab-df-container\">\n",
              "      <div>\n",
              "<style scoped>\n",
              "    .dataframe tbody tr th:only-of-type {\n",
              "        vertical-align: middle;\n",
              "    }\n",
              "\n",
              "    .dataframe tbody tr th {\n",
              "        vertical-align: top;\n",
              "    }\n",
              "\n",
              "    .dataframe thead th {\n",
              "        text-align: right;\n",
              "    }\n",
              "</style>\n",
              "<table border=\"1\" class=\"dataframe\">\n",
              "  <thead>\n",
              "    <tr style=\"text-align: right;\">\n",
              "      <th></th>\n",
              "      <th>length_to_school</th>\n",
              "      <th>time_to_school</th>\n",
              "      <th>main_transport</th>\n",
              "    </tr>\n",
              "  </thead>\n",
              "  <tbody>\n",
              "    <tr>\n",
              "      <th>0</th>\n",
              "      <td>3.07</td>\n",
              "      <td>25</td>\n",
              "      <td>Metrobús</td>\n",
              "    </tr>\n",
              "    <tr>\n",
              "      <th>1</th>\n",
              "      <td>5.35</td>\n",
              "      <td>60</td>\n",
              "      <td>Camión</td>\n",
              "    </tr>\n",
              "    <tr>\n",
              "      <th>2</th>\n",
              "      <td>24.25</td>\n",
              "      <td>120</td>\n",
              "      <td>Metro</td>\n",
              "    </tr>\n",
              "    <tr>\n",
              "      <th>3</th>\n",
              "      <td>8.20</td>\n",
              "      <td>40</td>\n",
              "      <td>Camión</td>\n",
              "    </tr>\n",
              "    <tr>\n",
              "      <th>4</th>\n",
              "      <td>7.54</td>\n",
              "      <td>45</td>\n",
              "      <td>Metrobús</td>\n",
              "    </tr>\n",
              "    <tr>\n",
              "      <th>5</th>\n",
              "      <td>28.00</td>\n",
              "      <td>75</td>\n",
              "      <td>Auto</td>\n",
              "    </tr>\n",
              "    <tr>\n",
              "      <th>6</th>\n",
              "      <td>4.80</td>\n",
              "      <td>40</td>\n",
              "      <td>Camión</td>\n",
              "    </tr>\n",
              "    <tr>\n",
              "      <th>7</th>\n",
              "      <td>22.00</td>\n",
              "      <td>120</td>\n",
              "      <td>Metro</td>\n",
              "    </tr>\n",
              "    <tr>\n",
              "      <th>8</th>\n",
              "      <td>6.75</td>\n",
              "      <td>30</td>\n",
              "      <td>Metro</td>\n",
              "    </tr>\n",
              "    <tr>\n",
              "      <th>9</th>\n",
              "      <td>7.03</td>\n",
              "      <td>100</td>\n",
              "      <td>Camión</td>\n",
              "    </tr>\n",
              "    <tr>\n",
              "      <th>10</th>\n",
              "      <td>12.00</td>\n",
              "      <td>36</td>\n",
              "      <td>Auto</td>\n",
              "    </tr>\n",
              "  </tbody>\n",
              "</table>\n",
              "</div>\n",
              "      <button class=\"colab-df-convert\" onclick=\"convertToInteractive('df-489a85a6-cf9b-42d3-b149-22310079d244')\"\n",
              "              title=\"Convert this dataframe to an interactive table.\"\n",
              "              style=\"display:none;\">\n",
              "        \n",
              "  <svg xmlns=\"http://www.w3.org/2000/svg\" height=\"24px\"viewBox=\"0 0 24 24\"\n",
              "       width=\"24px\">\n",
              "    <path d=\"M0 0h24v24H0V0z\" fill=\"none\"/>\n",
              "    <path d=\"M18.56 5.44l.94 2.06.94-2.06 2.06-.94-2.06-.94-.94-2.06-.94 2.06-2.06.94zm-11 1L8.5 8.5l.94-2.06 2.06-.94-2.06-.94L8.5 2.5l-.94 2.06-2.06.94zm10 10l.94 2.06.94-2.06 2.06-.94-2.06-.94-.94-2.06-.94 2.06-2.06.94z\"/><path d=\"M17.41 7.96l-1.37-1.37c-.4-.4-.92-.59-1.43-.59-.52 0-1.04.2-1.43.59L10.3 9.45l-7.72 7.72c-.78.78-.78 2.05 0 2.83L4 21.41c.39.39.9.59 1.41.59.51 0 1.02-.2 1.41-.59l7.78-7.78 2.81-2.81c.8-.78.8-2.07 0-2.86zM5.41 20L4 18.59l7.72-7.72 1.47 1.35L5.41 20z\"/>\n",
              "  </svg>\n",
              "      </button>\n",
              "      \n",
              "  <style>\n",
              "    .colab-df-container {\n",
              "      display:flex;\n",
              "      flex-wrap:wrap;\n",
              "      gap: 12px;\n",
              "    }\n",
              "\n",
              "    .colab-df-convert {\n",
              "      background-color: #E8F0FE;\n",
              "      border: none;\n",
              "      border-radius: 50%;\n",
              "      cursor: pointer;\n",
              "      display: none;\n",
              "      fill: #1967D2;\n",
              "      height: 32px;\n",
              "      padding: 0 0 0 0;\n",
              "      width: 32px;\n",
              "    }\n",
              "\n",
              "    .colab-df-convert:hover {\n",
              "      background-color: #E2EBFA;\n",
              "      box-shadow: 0px 1px 2px rgba(60, 64, 67, 0.3), 0px 1px 3px 1px rgba(60, 64, 67, 0.15);\n",
              "      fill: #174EA6;\n",
              "    }\n",
              "\n",
              "    [theme=dark] .colab-df-convert {\n",
              "      background-color: #3B4455;\n",
              "      fill: #D2E3FC;\n",
              "    }\n",
              "\n",
              "    [theme=dark] .colab-df-convert:hover {\n",
              "      background-color: #434B5C;\n",
              "      box-shadow: 0px 1px 3px 1px rgba(0, 0, 0, 0.15);\n",
              "      filter: drop-shadow(0px 1px 2px rgba(0, 0, 0, 0.3));\n",
              "      fill: #FFFFFF;\n",
              "    }\n",
              "  </style>\n",
              "\n",
              "      <script>\n",
              "        const buttonEl =\n",
              "          document.querySelector('#df-489a85a6-cf9b-42d3-b149-22310079d244 button.colab-df-convert');\n",
              "        buttonEl.style.display =\n",
              "          google.colab.kernel.accessAllowed ? 'block' : 'none';\n",
              "\n",
              "        async function convertToInteractive(key) {\n",
              "          const element = document.querySelector('#df-489a85a6-cf9b-42d3-b149-22310079d244');\n",
              "          const dataTable =\n",
              "            await google.colab.kernel.invokeFunction('convertToInteractive',\n",
              "                                                     [key], {});\n",
              "          if (!dataTable) return;\n",
              "\n",
              "          const docLinkHtml = 'Like what you see? Visit the ' +\n",
              "            '<a target=\"_blank\" href=https://colab.research.google.com/notebooks/data_table.ipynb>data table notebook</a>'\n",
              "            + ' to learn more about interactive tables.';\n",
              "          element.innerHTML = '';\n",
              "          dataTable['output_type'] = 'display_data';\n",
              "          await google.colab.output.renderOutput(dataTable, element);\n",
              "          const docLink = document.createElement('div');\n",
              "          docLink.innerHTML = docLinkHtml;\n",
              "          element.appendChild(docLink);\n",
              "        }\n",
              "      </script>\n",
              "    </div>\n",
              "  </div>\n",
              "  "
            ],
            "text/plain": [
              "    length_to_school  time_to_school main_transport\n",
              "0               3.07              25       Metrobús\n",
              "1               5.35              60         Camión\n",
              "2              24.25             120          Metro\n",
              "3               8.20              40         Camión\n",
              "4               7.54              45       Metrobús\n",
              "5              28.00              75           Auto\n",
              "6               4.80              40         Camión\n",
              "7              22.00             120          Metro\n",
              "8               6.75              30          Metro\n",
              "9               7.03             100         Camión\n",
              "10             12.00              36           Auto"
            ]
          },
          "metadata": {},
          "execution_count": 3
        }
      ]
    },
    {
      "cell_type": "code",
      "source": [
        "?data.plot"
      ],
      "metadata": {
        "id": "0RegFqzsNP_1"
      },
      "execution_count": null,
      "outputs": []
    },
    {
      "cell_type": "code",
      "source": [
        "data.plot(x='length_to_school', y='time_to_school', kind='scatter')"
      ],
      "metadata": {
        "id": "43J2Gd9mM-YL",
        "outputId": "df132e87-1fe5-44ef-ff85-40c340e93e09",
        "colab": {
          "base_uri": "https://localhost:8080/",
          "height": 298
        }
      },
      "execution_count": 4,
      "outputs": [
        {
          "output_type": "execute_result",
          "data": {
            "text/plain": [
              "<matplotlib.axes._subplots.AxesSubplot at 0x7f36b15ab990>"
            ]
          },
          "metadata": {},
          "execution_count": 4
        },
        {
          "output_type": "display_data",
          "data": {
            "image/png": "[encoded data removed]",
            "text/plain": [
              "<Figure size 432x288 with 1 Axes>"
            ]
          },
          "metadata": {
            "needs_background": "light"
          }
        }
      ]
    },
    {
      "cell_type": "markdown",
      "source": [
        "### Problema\n",
        "Encontrar el parámetro $\\beta$ tal que \n",
        "$$\n",
        "\\texttt{time_to_school} = \\beta * \\texttt{length_to_school}.\n",
        "$$"
      ],
      "metadata": {
        "id": "IpGUoCR0TrHs"
      }
    },
    {
      "cell_type": "code",
      "source": [
        "def least_square(y: npt.ArrayLike, X: npt.ArrayLike) -> np.array:\n",
        "    ''' función para calcular los coeficientes de la recta de mínimos cuadrados\n",
        "\n",
        "    Parameters\n",
        "    ----------\n",
        "    y: np.array datos dependientes\n",
        "    x: np.array matriz de observaciones de regresores\n",
        "\n",
        "    Returns\n",
        "    -------\n",
        "    np.array vector con coeficientes de la recta\n",
        "    '''\n",
        "    xt_x = X.T @ X\n",
        "    return np.linalg.inv(xt_x) @ (X.T @ y) "
      ],
      "metadata": {
        "id": "o01v_xWrHn3P"
      },
      "execution_count": 5,
      "outputs": []
    },
    {
      "cell_type": "code",
      "source": [
        "y = data['length_to_school'].to_numpy()\n",
        "X = data['time_to_school'].to_numpy()\n",
        "X = X[:, np.newaxis]\n",
        "X = np.c_[np.ones(X.shape[0]), X]\n",
        "y = y[:, np.newaxis]"
      ],
      "metadata": {
        "id": "g8djbYWSLd_F"
      },
      "execution_count": 6,
      "outputs": []
    },
    {
      "cell_type": "code",
      "source": [
        "X"
      ],
      "metadata": {
        "id": "DIe-vanGNo_X",
        "outputId": "74817407-e752-4ff3-9f8b-38f215e562c9",
        "colab": {
          "base_uri": "https://localhost:8080/"
        }
      },
      "execution_count": 7,
      "outputs": [
        {
          "output_type": "execute_result",
          "data": {
            "text/plain": [
              "array([[  1.,  25.],\n",
              "       [  1.,  60.],\n",
              "       [  1., 120.],\n",
              "       [  1.,  40.],\n",
              "       [  1.,  45.],\n",
              "       [  1.,  75.],\n",
              "       [  1.,  40.],\n",
              "       [  1., 120.],\n",
              "       [  1.,  30.],\n",
              "       [  1., 100.],\n",
              "       [  1.,  36.]])"
            ]
          },
          "metadata": {},
          "execution_count": 7
        }
      ]
    },
    {
      "cell_type": "code",
      "source": [
        "beta = least_square(y, X)"
      ],
      "metadata": {
        "id": "1lPlthhJL50s"
      },
      "execution_count": 8,
      "outputs": []
    },
    {
      "cell_type": "code",
      "source": [
        "plt.scatter(X[:,1], y)\n",
        "plt.plot(X[:,1], X @ beta, color='orange')"
      ],
      "metadata": {
        "id": "eGdZPN0xMwAi",
        "outputId": "4e750194-bfa2-4bdd-d420-a30ebdaeeff0",
        "colab": {
          "base_uri": "https://localhost:8080/",
          "height": 283
        }
      },
      "execution_count": 9,
      "outputs": [
        {
          "output_type": "execute_result",
          "data": {
            "text/plain": [
              "[<matplotlib.lines.Line2D at 0x7f36b0f154d0>]"
            ]
          },
          "metadata": {},
          "execution_count": 9
        },
        {
          "output_type": "display_data",
          "data": {
            "image/png": "[encoded data removed]",
            "text/plain": [
              "<Figure size 432x288 with 1 Axes>"
            ]
          },
          "metadata": {
            "needs_background": "light"
          }
        }
      ]
    },
    {
      "cell_type": "markdown",
      "source": [
        "## Ajustando temperaturas"
      ],
      "metadata": {
        "id": "Zwviv2RDqTuJ"
      }
    },
    {
      "cell_type": "code",
      "source": [
        "temp_data = pd.DataFrame({ \n",
        "    'temp_max': [17,  19,  21,  28,  33,  38, 37,  37,  31,  23,  19,  18] , \n",
        "    'temp_min': [-62, -59, -56, -46, -32, -18, -9, -13, -25, -46, -52, -58]\n",
        "    }, index = np.arange(12) + 1)"
      ],
      "metadata": {
        "id": "FYBgGMEzqa-e"
      },
      "execution_count": 10,
      "outputs": []
    },
    {
      "cell_type": "code",
      "source": [
        "temp_data"
      ],
      "metadata": {
        "id": "1yBfsXnAOci-",
        "outputId": "0b8136af-cf4c-4d8c-b41a-e153ca6f4de5",
        "colab": {
          "base_uri": "https://localhost:8080/",
          "height": 426
        }
      },
      "execution_count": 11,
      "outputs": [
        {
          "output_type": "execute_result",
          "data": {
            "text/html": [
              "\n",
              "  <div id=\"df-b61733a0-a931-43ba-b259-3c699168f50a\">\n",
              "    <div class=\"colab-df-container\">\n",
              "      <div>\n",
              "<style scoped>\n",
              "    .dataframe tbody tr th:only-of-type {\n",
              "        vertical-align: middle;\n",
              "    }\n",
              "\n",
              "    .dataframe tbody tr th {\n",
              "        vertical-align: top;\n",
              "    }\n",
              "\n",
              "    .dataframe thead th {\n",
              "        text-align: right;\n",
              "    }\n",
              "</style>\n",
              "<table border=\"1\" class=\"dataframe\">\n",
              "  <thead>\n",
              "    <tr style=\"text-align: right;\">\n",
              "      <th></th>\n",
              "      <th>temp_max</th>\n",
              "      <th>temp_min</th>\n",
              "    </tr>\n",
              "  </thead>\n",
              "  <tbody>\n",
              "    <tr>\n",
              "      <th>1</th>\n",
              "      <td>17</td>\n",
              "      <td>-62</td>\n",
              "    </tr>\n",
              "    <tr>\n",
              "      <th>2</th>\n",
              "      <td>19</td>\n",
              "      <td>-59</td>\n",
              "    </tr>\n",
              "    <tr>\n",
              "      <th>3</th>\n",
              "      <td>21</td>\n",
              "      <td>-56</td>\n",
              "    </tr>\n",
              "    <tr>\n",
              "      <th>4</th>\n",
              "      <td>28</td>\n",
              "      <td>-46</td>\n",
              "    </tr>\n",
              "    <tr>\n",
              "      <th>5</th>\n",
              "      <td>33</td>\n",
              "      <td>-32</td>\n",
              "    </tr>\n",
              "    <tr>\n",
              "      <th>6</th>\n",
              "      <td>38</td>\n",
              "      <td>-18</td>\n",
              "    </tr>\n",
              "    <tr>\n",
              "      <th>7</th>\n",
              "      <td>37</td>\n",
              "      <td>-9</td>\n",
              "    </tr>\n",
              "    <tr>\n",
              "      <th>8</th>\n",
              "      <td>37</td>\n",
              "      <td>-13</td>\n",
              "    </tr>\n",
              "    <tr>\n",
              "      <th>9</th>\n",
              "      <td>31</td>\n",
              "      <td>-25</td>\n",
              "    </tr>\n",
              "    <tr>\n",
              "      <th>10</th>\n",
              "      <td>23</td>\n",
              "      <td>-46</td>\n",
              "    </tr>\n",
              "    <tr>\n",
              "      <th>11</th>\n",
              "      <td>19</td>\n",
              "      <td>-52</td>\n",
              "    </tr>\n",
              "    <tr>\n",
              "      <th>12</th>\n",
              "      <td>18</td>\n",
              "      <td>-58</td>\n",
              "    </tr>\n",
              "  </tbody>\n",
              "</table>\n",
              "</div>\n",
              "      <button class=\"colab-df-convert\" onclick=\"convertToInteractive('df-b61733a0-a931-43ba-b259-3c699168f50a')\"\n",
              "              title=\"Convert this dataframe to an interactive table.\"\n",
              "              style=\"display:none;\">\n",
              "        \n",
              "  <svg xmlns=\"http://www.w3.org/2000/svg\" height=\"24px\"viewBox=\"0 0 24 24\"\n",
              "       width=\"24px\">\n",
              "    <path d=\"M0 0h24v24H0V0z\" fill=\"none\"/>\n",
              "    <path d=\"M18.56 5.44l.94 2.06.94-2.06 2.06-.94-2.06-.94-.94-2.06-.94 2.06-2.06.94zm-11 1L8.5 8.5l.94-2.06 2.06-.94-2.06-.94L8.5 2.5l-.94 2.06-2.06.94zm10 10l.94 2.06.94-2.06 2.06-.94-2.06-.94-.94-2.06-.94 2.06-2.06.94z\"/><path d=\"M17.41 7.96l-1.37-1.37c-.4-.4-.92-.59-1.43-.59-.52 0-1.04.2-1.43.59L10.3 9.45l-7.72 7.72c-.78.78-.78 2.05 0 2.83L4 21.41c.39.39.9.59 1.41.59.51 0 1.02-.2 1.41-.59l7.78-7.78 2.81-2.81c.8-.78.8-2.07 0-2.86zM5.41 20L4 18.59l7.72-7.72 1.47 1.35L5.41 20z\"/>\n",
              "  </svg>\n",
              "      </button>\n",
              "      \n",
              "  <style>\n",
              "    .colab-df-container {\n",
              "      display:flex;\n",
              "      flex-wrap:wrap;\n",
              "      gap: 12px;\n",
              "    }\n",
              "\n",
              "    .colab-df-convert {\n",
              "      background-color: #E8F0FE;\n",
              "      border: none;\n",
              "      border-radius: 50%;\n",
              "      cursor: pointer;\n",
              "      display: none;\n",
              "      fill: #1967D2;\n",
              "      height: 32px;\n",
              "      padding: 0 0 0 0;\n",
              "      width: 32px;\n",
              "    }\n",
              "\n",
              "    .colab-df-convert:hover {\n",
              "      background-color: #E2EBFA;\n",
              "      box-shadow: 0px 1px 2px rgba(60, 64, 67, 0.3), 0px 1px 3px 1px rgba(60, 64, 67, 0.15);\n",
              "      fill: #174EA6;\n",
              "    }\n",
              "\n",
              "    [theme=dark] .colab-df-convert {\n",
              "      background-color: #3B4455;\n",
              "      fill: #D2E3FC;\n",
              "    }\n",
              "\n",
              "    [theme=dark] .colab-df-convert:hover {\n",
              "      background-color: #434B5C;\n",
              "      box-shadow: 0px 1px 3px 1px rgba(0, 0, 0, 0.15);\n",
              "      filter: drop-shadow(0px 1px 2px rgba(0, 0, 0, 0.3));\n",
              "      fill: #FFFFFF;\n",
              "    }\n",
              "  </style>\n",
              "\n",
              "      <script>\n",
              "        const buttonEl =\n",
              "          document.querySelector('#df-b61733a0-a931-43ba-b259-3c699168f50a button.colab-df-convert');\n",
              "        buttonEl.style.display =\n",
              "          google.colab.kernel.accessAllowed ? 'block' : 'none';\n",
              "\n",
              "        async function convertToInteractive(key) {\n",
              "          const element = document.querySelector('#df-b61733a0-a931-43ba-b259-3c699168f50a');\n",
              "          const dataTable =\n",
              "            await google.colab.kernel.invokeFunction('convertToInteractive',\n",
              "                                                     [key], {});\n",
              "          if (!dataTable) return;\n",
              "\n",
              "          const docLinkHtml = 'Like what you see? Visit the ' +\n",
              "            '<a target=\"_blank\" href=https://colab.research.google.com/notebooks/data_table.ipynb>data table notebook</a>'\n",
              "            + ' to learn more about interactive tables.';\n",
              "          element.innerHTML = '';\n",
              "          dataTable['output_type'] = 'display_data';\n",
              "          await google.colab.output.renderOutput(dataTable, element);\n",
              "          const docLink = document.createElement('div');\n",
              "          docLink.innerHTML = docLinkHtml;\n",
              "          element.appendChild(docLink);\n",
              "        }\n",
              "      </script>\n",
              "    </div>\n",
              "  </div>\n",
              "  "
            ],
            "text/plain": [
              "    temp_max  temp_min\n",
              "1         17       -62\n",
              "2         19       -59\n",
              "3         21       -56\n",
              "4         28       -46\n",
              "5         33       -32\n",
              "6         38       -18\n",
              "7         37        -9\n",
              "8         37       -13\n",
              "9         31       -25\n",
              "10        23       -46\n",
              "11        19       -52\n",
              "12        18       -58"
            ]
          },
          "metadata": {},
          "execution_count": 11
        }
      ]
    },
    {
      "cell_type": "markdown",
      "source": [
        "Usaremos la función `optimize.curve_fitting`"
      ],
      "metadata": {
        "id": "SU7TzmjbsET_"
      }
    },
    {
      "cell_type": "code",
      "source": [
        "temp_data.plot(kind='line', style='.')"
      ],
      "metadata": {
        "id": "KvFQ9Ty3tPKa",
        "outputId": "bb704153-7208-446f-a522-06711b2b3961",
        "colab": {
          "base_uri": "https://localhost:8080/",
          "height": 283
        }
      },
      "execution_count": 12,
      "outputs": [
        {
          "output_type": "execute_result",
          "data": {
            "text/plain": [
              "<matplotlib.axes._subplots.AxesSubplot at 0x7f36ae6bea10>"
            ]
          },
          "metadata": {},
          "execution_count": 12
        },
        {
          "output_type": "display_data",
          "data": {
            "image/png": "[encoded data removed]",
            "text/plain": [
              "<Figure size 432x288 with 1 Axes>"
            ]
          },
          "metadata": {
            "needs_background": "light"
          }
        }
      ]
    },
    {
      "cell_type": "markdown",
      "source": [
        "### Problema\n",
        "Usar el modelo\n",
        "$$\n",
        "f(t, \\textrm{avg}, A, \\omega, b) = \\textrm{avg} + A\\cos(\\omega t + b).\n",
        "$$\n",
        "Para encontrar los parámetros que ajusten mejor para el conjunto de temperaturas máximas y otros para las temperaturas mínimas.\n",
        "\n",
        "Es importante considerar que el periodo de la función debe de ser anual, esto impone restricciones en el término $\\omega t + b$ generalmente es mejor factorizar esto en la forma\n",
        "$$\n",
        "    \\omega t + b = \\frac{2\\pi}{t_{\\max}}(t+t_{\\textrm{offset}}),\n",
        "$$\n",
        "donde el $t_{\\max}$ se encargara de controlar el periodo y $t_{\\textrm{offset}}$ ajusta los picos de la función coseno.\n"
      ],
      "metadata": {
        "id": "FiciRtXBOTE1"
      }
    },
    {
      "cell_type": "code",
      "source": [
        "?optimize.curve_fit"
      ],
      "metadata": {
        "id": "w-OlC0urPwI2"
      },
      "execution_count": 13,
      "outputs": []
    },
    {
      "cell_type": "code",
      "source": [
        "temp_max = temp_data['temp_max'].to_numpy()\n",
        "temp_min = temp_data['temp_min'].to_numpy()\n",
        "\n",
        "time = np.arange(12) + 1"
      ],
      "metadata": {
        "id": "eBGdLDRhPx7R"
      },
      "execution_count": 14,
      "outputs": []
    },
    {
      "cell_type": "code",
      "source": [
        "def yearly_temperature_model(\n",
        "    time: npt.ArrayLike,\n",
        "    temp_avg: npt.ArrayLike, \n",
        "    temp_var: npt.ArrayLike, \n",
        "    time_offset: npt.ArrayLike):\n",
        "    ''' modelo de aproximacion de temperatura anual \n",
        "    Parameters\n",
        "    ----------\n",
        "    time: np.array\n",
        "    temp_avg: np.array\n",
        "    temp_var: np.array\n",
        "    time_offset: np.array\n",
        "\n",
        "    Returns\n",
        "    -------\n",
        "    np.array regresa la temperatura modelada\n",
        "    '''\n",
        "    return temp_avg + temp_var*np.cos((2*np.pi/12)*(time-time_offset))"
      ],
      "metadata": {
        "id": "Q7JzKXK8PRbE"
      },
      "execution_count": 15,
      "outputs": []
    },
    {
      "cell_type": "code",
      "source": [
        "initial_guess_max = (\n",
        "    25,  # en promedio la temp. max ronda los 25 grados\n",
        "    10,  # tiene aproximadamente una variacion de 10 grados\n",
        "    6    # el valor máximo lo alcanza en el mes 6\n",
        ")\n",
        "initial_guess_min = (-40, 20, 6)"
      ],
      "metadata": {
        "id": "cbc9dnPpW6GY"
      },
      "execution_count": 16,
      "outputs": []
    },
    {
      "cell_type": "code",
      "source": [
        "fitted_params_max, cov_params_max = optimize.curve_fit(\n",
        "    yearly_temperature_model, \n",
        "    time, \n",
        "    temp_max, \n",
        "    p0=initial_guess_max)"
      ],
      "metadata": {
        "id": "aLhnCVzUnnLL"
      },
      "execution_count": 17,
      "outputs": []
    },
    {
      "cell_type": "code",
      "source": [
        "fitted_params_min, cov_params_min = optimize.curve_fit(\n",
        "    yearly_temperature_model, \n",
        "    time, \n",
        "    temp_min, \n",
        "    p0=initial_guess_min)"
      ],
      "metadata": {
        "id": "QM1XOmv_yinV"
      },
      "execution_count": 18,
      "outputs": []
    },
    {
      "cell_type": "code",
      "source": [
        "plt.plot(time, temp_max, 'o')\n",
        "plt.plot(time, temp_min, 'o')\n",
        "plt.plot(time, yearly_temperature_model(time, *fitted_params_max), '-')\n",
        "plt.plot(time, yearly_temperature_model(time, *fitted_params_min), '-')"
      ],
      "metadata": {
        "id": "wmOIOuKsnqB2",
        "outputId": "be00b3cd-6f5a-4820-b877-9f0f68d48945",
        "colab": {
          "base_uri": "https://localhost:8080/",
          "height": 283
        }
      },
      "execution_count": 19,
      "outputs": [
        {
          "output_type": "execute_result",
          "data": {
            "text/plain": [
              "[<matplotlib.lines.Line2D at 0x7f36ae57d990>]"
            ]
          },
          "metadata": {},
          "execution_count": 19
        },
        {
          "output_type": "display_data",
          "data": {
            "image/png": "[encoded data removed]",
            "text/plain": [
              "<Figure size 432x288 with 1 Axes>"
            ]
          },
          "metadata": {
            "needs_background": "light"
          }
        }
      ]
    },
    {
      "cell_type": "code",
      "source": [
        "fitted_params_max"
      ],
      "metadata": {
        "id": "2GUsk8j4E2wj",
        "colab": {
          "base_uri": "https://localhost:8080/"
        },
        "outputId": "5361e488-8186-4d40-9835-6aed67ec06d9"
      },
      "execution_count": 20,
      "outputs": [
        {
          "output_type": "execute_result",
          "data": {
            "text/plain": [
              "array([26.75      , 10.93254951,  6.72348005])"
            ]
          },
          "metadata": {},
          "execution_count": 20
        }
      ]
    },
    {
      "cell_type": "code",
      "source": [
        "fitted_params_min"
      ],
      "metadata": {
        "colab": {
          "base_uri": "https://localhost:8080/"
        },
        "id": "_jIsjw7iCFWv",
        "outputId": "bc8e2c8a-4d94-48f7-e72b-aec7eec87977"
      },
      "execution_count": 21,
      "outputs": [
        {
          "output_type": "execute_result",
          "data": {
            "text/plain": [
              "array([-39.66666667,  25.58169521,   7.15603649])"
            ]
          },
          "metadata": {},
          "execution_count": 21
        }
      ]
    },
    {
      "cell_type": "code",
      "source": [
        ""
      ],
      "metadata": {
        "id": "7yBWwgaACIgX"
      },
      "execution_count": null,
      "outputs": []
    }
  ]
}