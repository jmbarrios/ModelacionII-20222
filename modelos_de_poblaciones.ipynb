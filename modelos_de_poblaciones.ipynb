{
  "nbformat": 4,
  "nbformat_minor": 0,
  "metadata": {
    "colab": {
      "name": "modelos_de_poblaciones.ipynb",
      "provenance": [],
      "authorship_tag": "ABX9TyPnsrSXgmoHMaFuR5PWPrQl"
    },
    "kernelspec": {
      "name": "python3",
      "display_name": "Python 3"
    },
    "language_info": {
      "name": "python"
    },
    "widgets": {
      "application/vnd.jupyter.widget-state+json": {
        "8105d48bc93847448c43cfee693a74c3": {
          "model_module": "@jupyter-widgets/controls",
          "model_name": "VBoxModel",
          "model_module_version": "1.5.0",
          "state": {
            "_dom_classes": [
              "widget-interact"
            ],
            "_model_module": "@jupyter-widgets/controls",
            "_model_module_version": "1.5.0",
            "_model_name": "VBoxModel",
            "_view_count": null,
            "_view_module": "@jupyter-widgets/controls",
            "_view_module_version": "1.5.0",
            "_view_name": "VBoxView",
            "box_style": "",
            "children": [
              "IPY_MODEL_32b722524e4a450895b8e7be17bfaca4",
              "IPY_MODEL_7f49db767a404aab92b05169cd2062f6",
              "IPY_MODEL_10fff5c2cc09457cbc4295cdde7c981b",
              "IPY_MODEL_09b0d78f1fda412097fd8adc7a805f2f",
              "IPY_MODEL_db086a155a1646bbb5c0390ea9b79f24"
            ],
            "layout": "IPY_MODEL_5c5a0a273c1e430fa58c8df57baf4749"
          }
        },
        "32b722524e4a450895b8e7be17bfaca4": {
          "model_module": "@jupyter-widgets/controls",
          "model_name": "FloatSliderModel",
          "model_module_version": "1.5.0",
          "state": {
            "_dom_classes": [],
            "_model_module": "@jupyter-widgets/controls",
            "_model_module_version": "1.5.0",
            "_model_name": "FloatSliderModel",
            "_view_count": null,
            "_view_module": "@jupyter-widgets/controls",
            "_view_module_version": "1.5.0",
            "_view_name": "FloatSliderView",
            "continuous_update": true,
            "description": "q",
            "description_tooltip": null,
            "disabled": false,
            "layout": "IPY_MODEL_e154e8c6972245c4be38d126df72dac4",
            "max": 1,
            "min": 0,
            "orientation": "horizontal",
            "readout": true,
            "readout_format": ".2f",
            "step": 0.1,
            "style": "IPY_MODEL_4556043523ed4a53bdd844d1e337426c",
            "value": 0.5
          }
        },
        "7f49db767a404aab92b05169cd2062f6": {
          "model_module": "@jupyter-widgets/controls",
          "model_name": "FloatSliderModel",
          "model_module_version": "1.5.0",
          "state": {
            "_dom_classes": [],
            "_model_module": "@jupyter-widgets/controls",
            "_model_module_version": "1.5.0",
            "_model_name": "FloatSliderModel",
            "_view_count": null,
            "_view_module": "@jupyter-widgets/controls",
            "_view_module_version": "1.5.0",
            "_view_name": "FloatSliderView",
            "continuous_update": true,
            "description": "E",
            "description_tooltip": null,
            "disabled": false,
            "layout": "IPY_MODEL_d35f6a65e3954ad6afcd137d82d16a64",
            "max": 30,
            "min": 0,
            "orientation": "horizontal",
            "readout": true,
            "readout_format": ".2f",
            "step": 0.1,
            "style": "IPY_MODEL_0cb4fbe997d2449382d19902f6d8aef0",
            "value": 3.2
          }
        },
        "10fff5c2cc09457cbc4295cdde7c981b": {
          "model_module": "@jupyter-widgets/controls",
          "model_name": "IntSliderModel",
          "model_module_version": "1.5.0",
          "state": {
            "_dom_classes": [],
            "_model_module": "@jupyter-widgets/controls",
            "_model_module_version": "1.5.0",
            "_model_name": "IntSliderModel",
            "_view_count": null,
            "_view_module": "@jupyter-widgets/controls",
            "_view_module_version": "1.5.0",
            "_view_name": "IntSliderView",
            "continuous_update": true,
            "description": "r",
            "description_tooltip": null,
            "disabled": false,
            "layout": "IPY_MODEL_4157880b770c4f6f9b99c518dcd7e9ee",
            "max": 15,
            "min": -5,
            "orientation": "horizontal",
            "readout": true,
            "readout_format": "d",
            "step": 1,
            "style": "IPY_MODEL_dfd7972ef46d46da8f734079bcb2cf47",
            "value": 5
          }
        },
        "09b0d78f1fda412097fd8adc7a805f2f": {
          "model_module": "@jupyter-widgets/controls",
          "model_name": "IntSliderModel",
          "model_module_version": "1.5.0",
          "state": {
            "_dom_classes": [],
            "_model_module": "@jupyter-widgets/controls",
            "_model_module_version": "1.5.0",
            "_model_name": "IntSliderModel",
            "_view_count": null,
            "_view_module": "@jupyter-widgets/controls",
            "_view_module_version": "1.5.0",
            "_view_name": "IntSliderView",
            "continuous_update": true,
            "description": "K",
            "description_tooltip": null,
            "disabled": false,
            "layout": "IPY_MODEL_2001ec938db140c78aa0805ff51d5f63",
            "max": 300,
            "min": -100,
            "orientation": "horizontal",
            "readout": true,
            "readout_format": "d",
            "step": 1,
            "style": "IPY_MODEL_49a10bb263e84b518d8e76f45fde68cc",
            "value": 100
          }
        },
        "db086a155a1646bbb5c0390ea9b79f24": {
          "model_module": "@jupyter-widgets/output",
          "model_name": "OutputModel",
          "model_module_version": "1.0.0",
          "state": {
            "_dom_classes": [],
            "_model_module": "@jupyter-widgets/output",
            "_model_module_version": "1.0.0",
            "_model_name": "OutputModel",
            "_view_count": null,
            "_view_module": "@jupyter-widgets/output",
            "_view_module_version": "1.0.0",
            "_view_name": "OutputView",
            "layout": "IPY_MODEL_f02295f7ab1d49b29ba20b2866c47d6d",
            "msg_id": "",
            "outputs": [
              {
                "output_type": "display_data",
                "data": {
                  "text/plain": "<Figure size 432x288 with 1 Axes>",
                  "image/png": "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\n"
                },
                "metadata": {
                  "needs_background": "light"
                }
              }
            ]
          }
        },
        "5c5a0a273c1e430fa58c8df57baf4749": {
          "model_module": "@jupyter-widgets/base",
          "model_name": "LayoutModel",
          "model_module_version": "1.2.0",
          "state": {
            "_model_module": "@jupyter-widgets/base",
            "_model_module_version": "1.2.0",
            "_model_name": "LayoutModel",
            "_view_count": null,
            "_view_module": "@jupyter-widgets/base",
            "_view_module_version": "1.2.0",
            "_view_name": "LayoutView",
            "align_content": null,
            "align_items": null,
            "align_self": null,
            "border": null,
            "bottom": null,
            "display": null,
            "flex": null,
            "flex_flow": null,
            "grid_area": null,
            "grid_auto_columns": null,
            "grid_auto_flow": null,
            "grid_auto_rows": null,
            "grid_column": null,
            "grid_gap": null,
            "grid_row": null,
            "grid_template_areas": null,
            "grid_template_columns": null,
            "grid_template_rows": null,
            "height": null,
            "justify_content": null,
            "justify_items": null,
            "left": null,
            "margin": null,
            "max_height": null,
            "max_width": null,
            "min_height": null,
            "min_width": null,
            "object_fit": null,
            "object_position": null,
            "order": null,
            "overflow": null,
            "overflow_x": null,
            "overflow_y": null,
            "padding": null,
            "right": null,
            "top": null,
            "visibility": null,
            "width": null
          }
        },
        "e154e8c6972245c4be38d126df72dac4": {
          "model_module": "@jupyter-widgets/base",
          "model_name": "LayoutModel",
          "model_module_version": "1.2.0",
          "state": {
            "_model_module": "@jupyter-widgets/base",
            "_model_module_version": "1.2.0",
            "_model_name": "LayoutModel",
            "_view_count": null,
            "_view_module": "@jupyter-widgets/base",
            "_view_module_version": "1.2.0",
            "_view_name": "LayoutView",
            "align_content": null,
            "align_items": null,
            "align_self": null,
            "border": null,
            "bottom": null,
            "display": null,
            "flex": null,
            "flex_flow": null,
            "grid_area": null,
            "grid_auto_columns": null,
            "grid_auto_flow": null,
            "grid_auto_rows": null,
            "grid_column": null,
            "grid_gap": null,
            "grid_row": null,
            "grid_template_areas": null,
            "grid_template_columns": null,
            "grid_template_rows": null,
            "height": null,
            "justify_content": null,
            "justify_items": null,
            "left": null,
            "margin": null,
            "max_height": null,
            "max_width": null,
            "min_height": null,
            "min_width": null,
            "object_fit": null,
            "object_position": null,
            "order": null,
            "overflow": null,
            "overflow_x": null,
            "overflow_y": null,
            "padding": null,
            "right": null,
            "top": null,
            "visibility": null,
            "width": null
          }
        },
        "4556043523ed4a53bdd844d1e337426c": {
          "model_module": "@jupyter-widgets/controls",
          "model_name": "SliderStyleModel",
          "model_module_version": "1.5.0",
          "state": {
            "_model_module": "@jupyter-widgets/controls",
            "_model_module_version": "1.5.0",
            "_model_name": "SliderStyleModel",
            "_view_count": null,
            "_view_module": "@jupyter-widgets/base",
            "_view_module_version": "1.2.0",
            "_view_name": "StyleView",
            "description_width": "",
            "handle_color": null
          }
        },
        "d35f6a65e3954ad6afcd137d82d16a64": {
          "model_module": "@jupyter-widgets/base",
          "model_name": "LayoutModel",
          "model_module_version": "1.2.0",
          "state": {
            "_model_module": "@jupyter-widgets/base",
            "_model_module_version": "1.2.0",
            "_model_name": "LayoutModel",
            "_view_count": null,
            "_view_module": "@jupyter-widgets/base",
            "_view_module_version": "1.2.0",
            "_view_name": "LayoutView",
            "align_content": null,
            "align_items": null,
            "align_self": null,
            "border": null,
            "bottom": null,
            "display": null,
            "flex": null,
            "flex_flow": null,
            "grid_area": null,
            "grid_auto_columns": null,
            "grid_auto_flow": null,
            "grid_auto_rows": null,
            "grid_column": null,
            "grid_gap": null,
            "grid_row": null,
            "grid_template_areas": null,
            "grid_template_columns": null,
            "grid_template_rows": null,
            "height": null,
            "justify_content": null,
            "justify_items": null,
            "left": null,
            "margin": null,
            "max_height": null,
            "max_width": null,
            "min_height": null,
            "min_width": null,
            "object_fit": null,
            "object_position": null,
            "order": null,
            "overflow": null,
            "overflow_x": null,
            "overflow_y": null,
            "padding": null,
            "right": null,
            "top": null,
            "visibility": null,
            "width": null
          }
        },
        "0cb4fbe997d2449382d19902f6d8aef0": {
          "model_module": "@jupyter-widgets/controls",
          "model_name": "SliderStyleModel",
          "model_module_version": "1.5.0",
          "state": {
            "_model_module": "@jupyter-widgets/controls",
            "_model_module_version": "1.5.0",
            "_model_name": "SliderStyleModel",
            "_view_count": null,
            "_view_module": "@jupyter-widgets/base",
            "_view_module_version": "1.2.0",
            "_view_name": "StyleView",
            "description_width": "",
            "handle_color": null
          }
        },
        "4157880b770c4f6f9b99c518dcd7e9ee": {
          "model_module": "@jupyter-widgets/base",
          "model_name": "LayoutModel",
          "model_module_version": "1.2.0",
          "state": {
            "_model_module": "@jupyter-widgets/base",
            "_model_module_version": "1.2.0",
            "_model_name": "LayoutModel",
            "_view_count": null,
            "_view_module": "@jupyter-widgets/base",
            "_view_module_version": "1.2.0",
            "_view_name": "LayoutView",
            "align_content": null,
            "align_items": null,
            "align_self": null,
            "border": null,
            "bottom": null,
            "display": null,
            "flex": null,
            "flex_flow": null,
            "grid_area": null,
            "grid_auto_columns": null,
            "grid_auto_flow": null,
            "grid_auto_rows": null,
            "grid_column": null,
            "grid_gap": null,
            "grid_row": null,
            "grid_template_areas": null,
            "grid_template_columns": null,
            "grid_template_rows": null,
            "height": null,
            "justify_content": null,
            "justify_items": null,
            "left": null,
            "margin": null,
            "max_height": null,
            "max_width": null,
            "min_height": null,
            "min_width": null,
            "object_fit": null,
            "object_position": null,
            "order": null,
            "overflow": null,
            "overflow_x": null,
            "overflow_y": null,
            "padding": null,
            "right": null,
            "top": null,
            "visibility": null,
            "width": null
          }
        },
        "dfd7972ef46d46da8f734079bcb2cf47": {
          "model_module": "@jupyter-widgets/controls",
          "model_name": "SliderStyleModel",
          "model_module_version": "1.5.0",
          "state": {
            "_model_module": "@jupyter-widgets/controls",
            "_model_module_version": "1.5.0",
            "_model_name": "SliderStyleModel",
            "_view_count": null,
            "_view_module": "@jupyter-widgets/base",
            "_view_module_version": "1.2.0",
            "_view_name": "StyleView",
            "description_width": "",
            "handle_color": null
          }
        },
        "2001ec938db140c78aa0805ff51d5f63": {
          "model_module": "@jupyter-widgets/base",
          "model_name": "LayoutModel",
          "model_module_version": "1.2.0",
          "state": {
            "_model_module": "@jupyter-widgets/base",
            "_model_module_version": "1.2.0",
            "_model_name": "LayoutModel",
            "_view_count": null,
            "_view_module": "@jupyter-widgets/base",
            "_view_module_version": "1.2.0",
            "_view_name": "LayoutView",
            "align_content": null,
            "align_items": null,
            "align_self": null,
            "border": null,
            "bottom": null,
            "display": null,
            "flex": null,
            "flex_flow": null,
            "grid_area": null,
            "grid_auto_columns": null,
            "grid_auto_flow": null,
            "grid_auto_rows": null,
            "grid_column": null,
            "grid_gap": null,
            "grid_row": null,
            "grid_template_areas": null,
            "grid_template_columns": null,
            "grid_template_rows": null,
            "height": null,
            "justify_content": null,
            "justify_items": null,
            "left": null,
            "margin": null,
            "max_height": null,
            "max_width": null,
            "min_height": null,
            "min_width": null,
            "object_fit": null,
            "object_position": null,
            "order": null,
            "overflow": null,
            "overflow_x": null,
            "overflow_y": null,
            "padding": null,
            "right": null,
            "top": null,
            "visibility": null,
            "width": null
          }
        },
        "49a10bb263e84b518d8e76f45fde68cc": {
          "model_module": "@jupyter-widgets/controls",
          "model_name": "SliderStyleModel",
          "model_module_version": "1.5.0",
          "state": {
            "_model_module": "@jupyter-widgets/controls",
            "_model_module_version": "1.5.0",
            "_model_name": "SliderStyleModel",
            "_view_count": null,
            "_view_module": "@jupyter-widgets/base",
            "_view_module_version": "1.2.0",
            "_view_name": "StyleView",
            "description_width": "",
            "handle_color": null
          }
        },
        "f02295f7ab1d49b29ba20b2866c47d6d": {
          "model_module": "@jupyter-widgets/base",
          "model_name": "LayoutModel",
          "model_module_version": "1.2.0",
          "state": {
            "_model_module": "@jupyter-widgets/base",
            "_model_module_version": "1.2.0",
            "_model_name": "LayoutModel",
            "_view_count": null,
            "_view_module": "@jupyter-widgets/base",
            "_view_module_version": "1.2.0",
            "_view_name": "LayoutView",
            "align_content": null,
            "align_items": null,
            "align_self": null,
            "border": null,
            "bottom": null,
            "display": null,
            "flex": null,
            "flex_flow": null,
            "grid_area": null,
            "grid_auto_columns": null,
            "grid_auto_flow": null,
            "grid_auto_rows": null,
            "grid_column": null,
            "grid_gap": null,
            "grid_row": null,
            "grid_template_areas": null,
            "grid_template_columns": null,
            "grid_template_rows": null,
            "height": null,
            "justify_content": null,
            "justify_items": null,
            "left": null,
            "margin": null,
            "max_height": null,
            "max_width": null,
            "min_height": null,
            "min_width": null,
            "object_fit": null,
            "object_position": null,
            "order": null,
            "overflow": null,
            "overflow_x": null,
            "overflow_y": null,
            "padding": null,
            "right": null,
            "top": null,
            "visibility": null,
            "width": null
          }
        }
      }
    }
  },
  "cells": [
    {
      "cell_type": "code",
      "execution_count": 1,
      "metadata": {
        "id": "O730_rX32rQZ"
      },
      "outputs": [],
      "source": [
        "import numpy as np\n",
        "import matplotlib.pyplot as plt"
      ]
    },
    {
      "cell_type": "code",
      "source": [
        "from ipywidgets import (interact,\n",
        "                        interactive)"
      ],
      "metadata": {
        "id": "X8YngliZ285I"
      },
      "execution_count": 2,
      "outputs": []
    },
    {
      "cell_type": "code",
      "source": [
        "def modelo_logistico(r=5, K=100):\n",
        "    plt.figure()\n",
        "    x = np.linspace(0, K, num=1000)\n",
        "    plt.ylim(0, r*K/4+2)\n",
        "    plt.plot(x, r*x*(1-x/K))\n",
        "    plt.show()"
      ],
      "metadata": {
        "id": "olAXyHjj3I7i"
      },
      "execution_count": 9,
      "outputs": []
    },
    {
      "cell_type": "code",
      "source": [
        "modelo_logistico()"
      ],
      "metadata": {
        "colab": {
          "base_uri": "https://localhost:8080/",
          "height": 265
        },
        "id": "Z7lSGlpI4nyX",
        "outputId": "a108e15a-993f-4678-bab6-e73a4a0cd45f"
      },
      "execution_count": 10,
      "outputs": [
        {
          "output_type": "display_data",
          "data": {
            "text/plain": [
              "<Figure size 432x288 with 1 Axes>"
            ],
            "image/png": "[encoded data removed]"
          },
          "metadata": {
            "needs_background": "light"
          }
        }
      ]
    },
    {
      "cell_type": "markdown",
      "source": [
        "Quiero que grafiquen estas dos funciones:\n",
        "\n",
        "$$F(N|r, K) = rN(1-\\frac{N}{K}) $$\n",
        "\n",
        "$$H(N|q, E) = qEN$$"
      ],
      "metadata": {
        "id": "Lz-70RPe4p6R"
      }
    },
    {
      "cell_type": "code",
      "source": [
        "def modelo_con_pesca(q, E, r=5, K=100):\n",
        "    plt.figure()\n",
        "    x = np.linspace(0, K, num=1000)\n",
        "    puntos_equilibrio = np.array([\n",
        "        [0, 0],\n",
        "        [K*(1-q*E/r), 0]\n",
        "    ])\n",
        "    plt.ylim(0, r*K/4+2)\n",
        "    plt.plot(x, r*x*(1-x/K))\n",
        "    plt.plot(x, q*E*x)\n",
        "    plt.scatter(puntos_equilibrio[:, 0], puntos_equilibrio[:, 1], c='r')\n",
        "\n",
        "    plt.show()\n",
        "\n",
        "interactive_plot = interactive(modelo_con_pesca, q=(0., 1.), E=(0.,30.))\n",
        "interactive_plot"
      ],
      "metadata": {
        "colab": {
          "base_uri": "https://localhost:8080/",
          "height": 393,
          "referenced_widgets": [
            "8105d48bc93847448c43cfee693a74c3",
            "32b722524e4a450895b8e7be17bfaca4",
            "7f49db767a404aab92b05169cd2062f6",
            "10fff5c2cc09457cbc4295cdde7c981b",
            "09b0d78f1fda412097fd8adc7a805f2f",
            "db086a155a1646bbb5c0390ea9b79f24",
            "5c5a0a273c1e430fa58c8df57baf4749",
            "e154e8c6972245c4be38d126df72dac4",
            "4556043523ed4a53bdd844d1e337426c",
            "d35f6a65e3954ad6afcd137d82d16a64",
            "0cb4fbe997d2449382d19902f6d8aef0",
            "4157880b770c4f6f9b99c518dcd7e9ee",
            "dfd7972ef46d46da8f734079bcb2cf47",
            "2001ec938db140c78aa0805ff51d5f63",
            "49a10bb263e84b518d8e76f45fde68cc",
            "f02295f7ab1d49b29ba20b2866c47d6d"
          ]
        },
        "id": "hIQKxUJ77gKY",
        "outputId": "d780fe6b-0c76-4442-f9e1-34fd9ce54c78"
      },
      "execution_count": 20,
      "outputs": [
        {
          "output_type": "display_data",
          "data": {
            "text/plain": [
              "interactive(children=(FloatSlider(value=0.5, description='q', max=1.0), FloatSlider(value=15.0, description='E…"
            ],
            "application/vnd.jupyter.widget-view+json": {
              "version_major": 2,
              "version_minor": 0,
              "model_id": "8105d48bc93847448c43cfee693a74c3"
            }
          },
          "metadata": {}
        }
      ]
    },
    {
      "cell_type": "code",
      "source": [
        "def rendimiento_h2(q=0.5, E=3., r=5, K=100):\n",
        "    plt.figure()\n",
        "    E = np.linspace(0, r/q, num=1000)\n",
        "    plt.ylim(0, r*K/4+2)\n",
        "    plt.plot(E, q*E*K*(1-q*E/r))\n",
        "    plt.scatter(r/(2*q), 0, c='red')\n",
        "    plt.show()\n",
        "\n",
        "rendimiento_h2()"
      ],
      "metadata": {
        "colab": {
          "base_uri": "https://localhost:8080/",
          "height": 265
        },
        "id": "CPvQS7BQ-3eT",
        "outputId": "61456f45-df62-47d4-efc5-c137c21e5c19"
      },
      "execution_count": 27,
      "outputs": [
        {
          "output_type": "display_data",
          "data": {
            "text/plain": [
              "<Figure size 432x288 with 1 Axes>"
            ],
            "image/png": "[encoded data removed]"
          },
          "metadata": {
            "needs_background": "light"
          }
        }
      ]
    },
    {
      "cell_type": "code",
      "source": [
        ""
      ],
      "metadata": {
        "id": "6uOUsVt6FpBN"
      },
      "execution_count": null,
      "outputs": []
    }
  ]
}